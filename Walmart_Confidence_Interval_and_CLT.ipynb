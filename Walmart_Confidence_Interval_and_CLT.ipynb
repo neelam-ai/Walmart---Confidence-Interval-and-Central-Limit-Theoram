{
  "nbformat": 4,
  "nbformat_minor": 0,
  "metadata": {
    "colab": {
      "provenance": []
    },
    "kernelspec": {
      "name": "python3",
      "display_name": "Python 3"
    },
    "language_info": {
      "name": "python"
    }
  },
  "cells": [
    {
      "cell_type": "code",
      "execution_count": null,
      "metadata": {
        "id": "KpeB2cLqVtsZ"
      },
      "outputs": [],
      "source": [
        "import numpy as np\n",
        "import pandas as pd\n",
        "import seaborn as sns\n",
        "import matplotlib.pyplot as plt\n",
        "from scipy.stats import norm"
      ]
    },
    {
      "cell_type": "code",
      "source": [
        "!gdown https://d2beiqkhq929f0.cloudfront.net/public_assets/assets/000/001/293/original/walmart_data.csv?1641285094"
      ],
      "metadata": {
        "colab": {
          "base_uri": "https://localhost:8080/"
        },
        "id": "rKbqXsoMYFIu",
        "outputId": "2c705811-b398-451f-cb51-48b092b9d123"
      },
      "execution_count": null,
      "outputs": [
        {
          "output_type": "stream",
          "name": "stdout",
          "text": [
            "Downloading...\n",
            "From: https://d2beiqkhq929f0.cloudfront.net/public_assets/assets/000/001/293/original/walmart_data.csv?1641285094\n",
            "To: /content/walmart_data.csv?1641285094\n",
            "100% 23.0M/23.0M [00:02<00:00, 8.79MB/s]\n"
          ]
        }
      ]
    },
    {
      "cell_type": "code",
      "source": [
        "df_original = pd.read_csv(\"/content/walmart_data.csv?1641285094\")\n",
        "df_original"
      ],
      "metadata": {
        "colab": {
          "base_uri": "https://localhost:8080/",
          "height": 424
        },
        "id": "pcwwMAr0YAxA",
        "outputId": "e3cf237e-9efb-488c-9bd7-091b194334b6"
      },
      "execution_count": null,
      "outputs": [
        {
          "output_type": "execute_result",
          "data": {
            "text/plain": [
              "        User_ID Product_ID Gender    Age  Occupation City_Category  \\\n",
              "0       1000001  P00069042      F   0-17          10             A   \n",
              "1       1000001  P00248942      F   0-17          10             A   \n",
              "2       1000001  P00087842      F   0-17          10             A   \n",
              "3       1000001  P00085442      F   0-17          10             A   \n",
              "4       1000002  P00285442      M    55+          16             C   \n",
              "...         ...        ...    ...    ...         ...           ...   \n",
              "550063  1006033  P00372445      M  51-55          13             B   \n",
              "550064  1006035  P00375436      F  26-35           1             C   \n",
              "550065  1006036  P00375436      F  26-35          15             B   \n",
              "550066  1006038  P00375436      F    55+           1             C   \n",
              "550067  1006039  P00371644      F  46-50           0             B   \n",
              "\n",
              "       Stay_In_Current_City_Years  Marital_Status  Product_Category  Purchase  \n",
              "0                               2               0                 3      8370  \n",
              "1                               2               0                 1     15200  \n",
              "2                               2               0                12      1422  \n",
              "3                               2               0                12      1057  \n",
              "4                              4+               0                 8      7969  \n",
              "...                           ...             ...               ...       ...  \n",
              "550063                          1               1                20       368  \n",
              "550064                          3               0                20       371  \n",
              "550065                         4+               1                20       137  \n",
              "550066                          2               0                20       365  \n",
              "550067                         4+               1                20       490  \n",
              "\n",
              "[550068 rows x 10 columns]"
            ],
            "text/html": [
              "\n",
              "  <div id=\"df-5d32078b-ff5b-4caa-a95d-d73cec2bb4c1\" class=\"colab-df-container\">\n",
              "    <div>\n",
              "<style scoped>\n",
              "    .dataframe tbody tr th:only-of-type {\n",
              "        vertical-align: middle;\n",
              "    }\n",
              "\n",
              "    .dataframe tbody tr th {\n",
              "        vertical-align: top;\n",
              "    }\n",
              "\n",
              "    .dataframe thead th {\n",
              "        text-align: right;\n",
              "    }\n",
              "</style>\n",
              "<table border=\"1\" class=\"dataframe\">\n",
              "  <thead>\n",
              "    <tr style=\"text-align: right;\">\n",
              "      <th></th>\n",
              "      <th>User_ID</th>\n",
              "      <th>Product_ID</th>\n",
              "      <th>Gender</th>\n",
              "      <th>Age</th>\n",
              "      <th>Occupation</th>\n",
              "      <th>City_Category</th>\n",
              "      <th>Stay_In_Current_City_Years</th>\n",
              "      <th>Marital_Status</th>\n",
              "      <th>Product_Category</th>\n",
              "      <th>Purchase</th>\n",
              "    </tr>\n",
              "  </thead>\n",
              "  <tbody>\n",
              "    <tr>\n",
              "      <th>0</th>\n",
              "      <td>1000001</td>\n",
              "      <td>P00069042</td>\n",
              "      <td>F</td>\n",
              "      <td>0-17</td>\n",
              "      <td>10</td>\n",
              "      <td>A</td>\n",
              "      <td>2</td>\n",
              "      <td>0</td>\n",
              "      <td>3</td>\n",
              "      <td>8370</td>\n",
              "    </tr>\n",
              "    <tr>\n",
              "      <th>1</th>\n",
              "      <td>1000001</td>\n",
              "      <td>P00248942</td>\n",
              "      <td>F</td>\n",
              "      <td>0-17</td>\n",
              "      <td>10</td>\n",
              "      <td>A</td>\n",
              "      <td>2</td>\n",
              "      <td>0</td>\n",
              "      <td>1</td>\n",
              "      <td>15200</td>\n",
              "    </tr>\n",
              "    <tr>\n",
              "      <th>2</th>\n",
              "      <td>1000001</td>\n",
              "      <td>P00087842</td>\n",
              "      <td>F</td>\n",
              "      <td>0-17</td>\n",
              "      <td>10</td>\n",
              "      <td>A</td>\n",
              "      <td>2</td>\n",
              "      <td>0</td>\n",
              "      <td>12</td>\n",
              "      <td>1422</td>\n",
              "    </tr>\n",
              "    <tr>\n",
              "      <th>3</th>\n",
              "      <td>1000001</td>\n",
              "      <td>P00085442</td>\n",
              "      <td>F</td>\n",
              "      <td>0-17</td>\n",
              "      <td>10</td>\n",
              "      <td>A</td>\n",
              "      <td>2</td>\n",
              "      <td>0</td>\n",
              "      <td>12</td>\n",
              "      <td>1057</td>\n",
              "    </tr>\n",
              "    <tr>\n",
              "      <th>4</th>\n",
              "      <td>1000002</td>\n",
              "      <td>P00285442</td>\n",
              "      <td>M</td>\n",
              "      <td>55+</td>\n",
              "      <td>16</td>\n",
              "      <td>C</td>\n",
              "      <td>4+</td>\n",
              "      <td>0</td>\n",
              "      <td>8</td>\n",
              "      <td>7969</td>\n",
              "    </tr>\n",
              "    <tr>\n",
              "      <th>...</th>\n",
              "      <td>...</td>\n",
              "      <td>...</td>\n",
              "      <td>...</td>\n",
              "      <td>...</td>\n",
              "      <td>...</td>\n",
              "      <td>...</td>\n",
              "      <td>...</td>\n",
              "      <td>...</td>\n",
              "      <td>...</td>\n",
              "      <td>...</td>\n",
              "    </tr>\n",
              "    <tr>\n",
              "      <th>550063</th>\n",
              "      <td>1006033</td>\n",
              "      <td>P00372445</td>\n",
              "      <td>M</td>\n",
              "      <td>51-55</td>\n",
              "      <td>13</td>\n",
              "      <td>B</td>\n",
              "      <td>1</td>\n",
              "      <td>1</td>\n",
              "      <td>20</td>\n",
              "      <td>368</td>\n",
              "    </tr>\n",
              "    <tr>\n",
              "      <th>550064</th>\n",
              "      <td>1006035</td>\n",
              "      <td>P00375436</td>\n",
              "      <td>F</td>\n",
              "      <td>26-35</td>\n",
              "      <td>1</td>\n",
              "      <td>C</td>\n",
              "      <td>3</td>\n",
              "      <td>0</td>\n",
              "      <td>20</td>\n",
              "      <td>371</td>\n",
              "    </tr>\n",
              "    <tr>\n",
              "      <th>550065</th>\n",
              "      <td>1006036</td>\n",
              "      <td>P00375436</td>\n",
              "      <td>F</td>\n",
              "      <td>26-35</td>\n",
              "      <td>15</td>\n",
              "      <td>B</td>\n",
              "      <td>4+</td>\n",
              "      <td>1</td>\n",
              "      <td>20</td>\n",
              "      <td>137</td>\n",
              "    </tr>\n",
              "    <tr>\n",
              "      <th>550066</th>\n",
              "      <td>1006038</td>\n",
              "      <td>P00375436</td>\n",
              "      <td>F</td>\n",
              "      <td>55+</td>\n",
              "      <td>1</td>\n",
              "      <td>C</td>\n",
              "      <td>2</td>\n",
              "      <td>0</td>\n",
              "      <td>20</td>\n",
              "      <td>365</td>\n",
              "    </tr>\n",
              "    <tr>\n",
              "      <th>550067</th>\n",
              "      <td>1006039</td>\n",
              "      <td>P00371644</td>\n",
              "      <td>F</td>\n",
              "      <td>46-50</td>\n",
              "      <td>0</td>\n",
              "      <td>B</td>\n",
              "      <td>4+</td>\n",
              "      <td>1</td>\n",
              "      <td>20</td>\n",
              "      <td>490</td>\n",
              "    </tr>\n",
              "  </tbody>\n",
              "</table>\n",
              "<p>550068 rows × 10 columns</p>\n",
              "</div>\n",
              "    <div class=\"colab-df-buttons\">\n",
              "\n",
              "  <div class=\"colab-df-container\">\n",
              "    <button class=\"colab-df-convert\" onclick=\"convertToInteractive('df-5d32078b-ff5b-4caa-a95d-d73cec2bb4c1')\"\n",
              "            title=\"Convert this dataframe to an interactive table.\"\n",
              "            style=\"display:none;\">\n",
              "\n",
              "  <svg xmlns=\"http://www.w3.org/2000/svg\" height=\"24px\" viewBox=\"0 -960 960 960\">\n",
              "    <path d=\"M120-120v-720h720v720H120Zm60-500h600v-160H180v160Zm220 220h160v-160H400v160Zm0 220h160v-160H400v160ZM180-400h160v-160H180v160Zm440 0h160v-160H620v160ZM180-180h160v-160H180v160Zm440 0h160v-160H620v160Z\"/>\n",
              "  </svg>\n",
              "    </button>\n",
              "\n",
              "  <style>\n",
              "    .colab-df-container {\n",
              "      display:flex;\n",
              "      gap: 12px;\n",
              "    }\n",
              "\n",
              "    .colab-df-convert {\n",
              "      background-color: #E8F0FE;\n",
              "      border: none;\n",
              "      border-radius: 50%;\n",
              "      cursor: pointer;\n",
              "      display: none;\n",
              "      fill: #1967D2;\n",
              "      height: 32px;\n",
              "      padding: 0 0 0 0;\n",
              "      width: 32px;\n",
              "    }\n",
              "\n",
              "    .colab-df-convert:hover {\n",
              "      background-color: #E2EBFA;\n",
              "      box-shadow: 0px 1px 2px rgba(60, 64, 67, 0.3), 0px 1px 3px 1px rgba(60, 64, 67, 0.15);\n",
              "      fill: #174EA6;\n",
              "    }\n",
              "\n",
              "    .colab-df-buttons div {\n",
              "      margin-bottom: 4px;\n",
              "    }\n",
              "\n",
              "    [theme=dark] .colab-df-convert {\n",
              "      background-color: #3B4455;\n",
              "      fill: #D2E3FC;\n",
              "    }\n",
              "\n",
              "    [theme=dark] .colab-df-convert:hover {\n",
              "      background-color: #434B5C;\n",
              "      box-shadow: 0px 1px 3px 1px rgba(0, 0, 0, 0.15);\n",
              "      filter: drop-shadow(0px 1px 2px rgba(0, 0, 0, 0.3));\n",
              "      fill: #FFFFFF;\n",
              "    }\n",
              "  </style>\n",
              "\n",
              "    <script>\n",
              "      const buttonEl =\n",
              "        document.querySelector('#df-5d32078b-ff5b-4caa-a95d-d73cec2bb4c1 button.colab-df-convert');\n",
              "      buttonEl.style.display =\n",
              "        google.colab.kernel.accessAllowed ? 'block' : 'none';\n",
              "\n",
              "      async function convertToInteractive(key) {\n",
              "        const element = document.querySelector('#df-5d32078b-ff5b-4caa-a95d-d73cec2bb4c1');\n",
              "        const dataTable =\n",
              "          await google.colab.kernel.invokeFunction('convertToInteractive',\n",
              "                                                    [key], {});\n",
              "        if (!dataTable) return;\n",
              "\n",
              "        const docLinkHtml = 'Like what you see? Visit the ' +\n",
              "          '<a target=\"_blank\" href=https://colab.research.google.com/notebooks/data_table.ipynb>data table notebook</a>'\n",
              "          + ' to learn more about interactive tables.';\n",
              "        element.innerHTML = '';\n",
              "        dataTable['output_type'] = 'display_data';\n",
              "        await google.colab.output.renderOutput(dataTable, element);\n",
              "        const docLink = document.createElement('div');\n",
              "        docLink.innerHTML = docLinkHtml;\n",
              "        element.appendChild(docLink);\n",
              "      }\n",
              "    </script>\n",
              "  </div>\n",
              "\n",
              "\n",
              "<div id=\"df-07b594c5-33a4-417b-8bba-ce9989513124\">\n",
              "  <button class=\"colab-df-quickchart\" onclick=\"quickchart('df-07b594c5-33a4-417b-8bba-ce9989513124')\"\n",
              "            title=\"Suggest charts.\"\n",
              "            style=\"display:none;\">\n",
              "\n",
              "<svg xmlns=\"http://www.w3.org/2000/svg\" height=\"24px\"viewBox=\"0 0 24 24\"\n",
              "     width=\"24px\">\n",
              "    <g>\n",
              "        <path d=\"M19 3H5c-1.1 0-2 .9-2 2v14c0 1.1.9 2 2 2h14c1.1 0 2-.9 2-2V5c0-1.1-.9-2-2-2zM9 17H7v-7h2v7zm4 0h-2V7h2v10zm4 0h-2v-4h2v4z\"/>\n",
              "    </g>\n",
              "</svg>\n",
              "  </button>\n",
              "\n",
              "<style>\n",
              "  .colab-df-quickchart {\n",
              "      --bg-color: #E8F0FE;\n",
              "      --fill-color: #1967D2;\n",
              "      --hover-bg-color: #E2EBFA;\n",
              "      --hover-fill-color: #174EA6;\n",
              "      --disabled-fill-color: #AAA;\n",
              "      --disabled-bg-color: #DDD;\n",
              "  }\n",
              "\n",
              "  [theme=dark] .colab-df-quickchart {\n",
              "      --bg-color: #3B4455;\n",
              "      --fill-color: #D2E3FC;\n",
              "      --hover-bg-color: #434B5C;\n",
              "      --hover-fill-color: #FFFFFF;\n",
              "      --disabled-bg-color: #3B4455;\n",
              "      --disabled-fill-color: #666;\n",
              "  }\n",
              "\n",
              "  .colab-df-quickchart {\n",
              "    background-color: var(--bg-color);\n",
              "    border: none;\n",
              "    border-radius: 50%;\n",
              "    cursor: pointer;\n",
              "    display: none;\n",
              "    fill: var(--fill-color);\n",
              "    height: 32px;\n",
              "    padding: 0;\n",
              "    width: 32px;\n",
              "  }\n",
              "\n",
              "  .colab-df-quickchart:hover {\n",
              "    background-color: var(--hover-bg-color);\n",
              "    box-shadow: 0 1px 2px rgba(60, 64, 67, 0.3), 0 1px 3px 1px rgba(60, 64, 67, 0.15);\n",
              "    fill: var(--button-hover-fill-color);\n",
              "  }\n",
              "\n",
              "  .colab-df-quickchart-complete:disabled,\n",
              "  .colab-df-quickchart-complete:disabled:hover {\n",
              "    background-color: var(--disabled-bg-color);\n",
              "    fill: var(--disabled-fill-color);\n",
              "    box-shadow: none;\n",
              "  }\n",
              "\n",
              "  .colab-df-spinner {\n",
              "    border: 2px solid var(--fill-color);\n",
              "    border-color: transparent;\n",
              "    border-bottom-color: var(--fill-color);\n",
              "    animation:\n",
              "      spin 1s steps(1) infinite;\n",
              "  }\n",
              "\n",
              "  @keyframes spin {\n",
              "    0% {\n",
              "      border-color: transparent;\n",
              "      border-bottom-color: var(--fill-color);\n",
              "      border-left-color: var(--fill-color);\n",
              "    }\n",
              "    20% {\n",
              "      border-color: transparent;\n",
              "      border-left-color: var(--fill-color);\n",
              "      border-top-color: var(--fill-color);\n",
              "    }\n",
              "    30% {\n",
              "      border-color: transparent;\n",
              "      border-left-color: var(--fill-color);\n",
              "      border-top-color: var(--fill-color);\n",
              "      border-right-color: var(--fill-color);\n",
              "    }\n",
              "    40% {\n",
              "      border-color: transparent;\n",
              "      border-right-color: var(--fill-color);\n",
              "      border-top-color: var(--fill-color);\n",
              "    }\n",
              "    60% {\n",
              "      border-color: transparent;\n",
              "      border-right-color: var(--fill-color);\n",
              "    }\n",
              "    80% {\n",
              "      border-color: transparent;\n",
              "      border-right-color: var(--fill-color);\n",
              "      border-bottom-color: var(--fill-color);\n",
              "    }\n",
              "    90% {\n",
              "      border-color: transparent;\n",
              "      border-bottom-color: var(--fill-color);\n",
              "    }\n",
              "  }\n",
              "</style>\n",
              "\n",
              "  <script>\n",
              "    async function quickchart(key) {\n",
              "      const quickchartButtonEl =\n",
              "        document.querySelector('#' + key + ' button');\n",
              "      quickchartButtonEl.disabled = true;  // To prevent multiple clicks.\n",
              "      quickchartButtonEl.classList.add('colab-df-spinner');\n",
              "      try {\n",
              "        const charts = await google.colab.kernel.invokeFunction(\n",
              "            'suggestCharts', [key], {});\n",
              "      } catch (error) {\n",
              "        console.error('Error during call to suggestCharts:', error);\n",
              "      }\n",
              "      quickchartButtonEl.classList.remove('colab-df-spinner');\n",
              "      quickchartButtonEl.classList.add('colab-df-quickchart-complete');\n",
              "    }\n",
              "    (() => {\n",
              "      let quickchartButtonEl =\n",
              "        document.querySelector('#df-07b594c5-33a4-417b-8bba-ce9989513124 button');\n",
              "      quickchartButtonEl.style.display =\n",
              "        google.colab.kernel.accessAllowed ? 'block' : 'none';\n",
              "    })();\n",
              "  </script>\n",
              "</div>\n",
              "    </div>\n",
              "  </div>\n"
            ]
          },
          "metadata": {},
          "execution_count": 3
        }
      ]
    },
    {
      "cell_type": "markdown",
      "source": [
        "#**Section 1. Defining Problem Statement and Analyzing basic metrics (10 Points)**"
      ],
      "metadata": {
        "id": "sS3hGFJr9oKK"
      }
    },
    {
      "cell_type": "markdown",
      "source": [
        "#Defining Problem Statement\n",
        "\n",
        "We wanted to analyze the customer purchase behavior (specifically, purchase amount) against the customer’s gender and the various other factors to help the business make better decisions.\n",
        "\n",
        "Alse, we wanted to understand if the spending habits differ between male and female customers: Do women spend more on Black Friday than men?"
      ],
      "metadata": {
        "id": "cQnqp4Z35zTR"
      }
    },
    {
      "cell_type": "markdown",
      "source": [
        "#Section 1.1 Observations on shape of data, data types of all the attributes, conversion of categorical attributes to 'category' (If required), statistical summary"
      ],
      "metadata": {
        "id": "of1cJgq0gigi"
      }
    },
    {
      "cell_type": "code",
      "source": [
        "df_original.shape"
      ],
      "metadata": {
        "colab": {
          "base_uri": "https://localhost:8080/"
        },
        "id": "gEX_MxIgmYjI",
        "outputId": "3a453423-a358-47f6-9ed7-f3da1189d7c3"
      },
      "execution_count": null,
      "outputs": [
        {
          "output_type": "execute_result",
          "data": {
            "text/plain": [
              "(550068, 10)"
            ]
          },
          "metadata": {},
          "execution_count": 11
        }
      ]
    },
    {
      "cell_type": "code",
      "source": [
        "df_original.info()"
      ],
      "metadata": {
        "colab": {
          "base_uri": "https://localhost:8080/"
        },
        "id": "5MsC5d05iJk2",
        "outputId": "48609f03-9117-4b46-fd44-6c076c1305a1"
      },
      "execution_count": null,
      "outputs": [
        {
          "output_type": "stream",
          "name": "stdout",
          "text": [
            "<class 'pandas.core.frame.DataFrame'>\n",
            "RangeIndex: 550068 entries, 0 to 550067\n",
            "Data columns (total 10 columns):\n",
            " #   Column                      Non-Null Count   Dtype \n",
            "---  ------                      --------------   ----- \n",
            " 0   User_ID                     550068 non-null  int64 \n",
            " 1   Product_ID                  550068 non-null  object\n",
            " 2   Gender                      550068 non-null  object\n",
            " 3   Age                         550068 non-null  object\n",
            " 4   Occupation                  550068 non-null  int64 \n",
            " 5   City_Category               550068 non-null  object\n",
            " 6   Stay_In_Current_City_Years  550068 non-null  object\n",
            " 7   Marital_Status              550068 non-null  int64 \n",
            " 8   Product_Category            550068 non-null  int64 \n",
            " 9   Purchase                    550068 non-null  int64 \n",
            "dtypes: int64(5), object(5)\n",
            "memory usage: 42.0+ MB\n"
          ]
        }
      ]
    },
    {
      "cell_type": "code",
      "source": [
        "df = df_original.astype({'User_ID': object, 'Occupation': object, 'Product_Category': object,'Marital_Status': object})"
      ],
      "metadata": {
        "id": "RnREvrj5qlWG"
      },
      "execution_count": null,
      "outputs": []
    },
    {
      "cell_type": "code",
      "source": [
        "df.info()"
      ],
      "metadata": {
        "colab": {
          "base_uri": "https://localhost:8080/"
        },
        "id": "SdeNFY9prCHO",
        "outputId": "dc933dd2-18ce-4707-b59e-eb35cec8a333"
      },
      "execution_count": null,
      "outputs": [
        {
          "output_type": "stream",
          "name": "stdout",
          "text": [
            "<class 'pandas.core.frame.DataFrame'>\n",
            "RangeIndex: 550068 entries, 0 to 550067\n",
            "Data columns (total 10 columns):\n",
            " #   Column                      Non-Null Count   Dtype \n",
            "---  ------                      --------------   ----- \n",
            " 0   User_ID                     550068 non-null  object\n",
            " 1   Product_ID                  550068 non-null  object\n",
            " 2   Gender                      550068 non-null  object\n",
            " 3   Age                         550068 non-null  object\n",
            " 4   Occupation                  550068 non-null  object\n",
            " 5   City_Category               550068 non-null  object\n",
            " 6   Stay_In_Current_City_Years  550068 non-null  object\n",
            " 7   Marital_Status              550068 non-null  object\n",
            " 8   Product_Category            550068 non-null  object\n",
            " 9   Purchase                    550068 non-null  int64 \n",
            "dtypes: int64(1), object(9)\n",
            "memory usage: 42.0+ MB\n"
          ]
        }
      ]
    },
    {
      "cell_type": "markdown",
      "source": [],
      "metadata": {
        "id": "-9DyLMvhqlBz"
      }
    },
    {
      "cell_type": "code",
      "source": [
        "df.describe()"
      ],
      "metadata": {
        "colab": {
          "base_uri": "https://localhost:8080/",
          "height": 300
        },
        "id": "ByR2O-8Hm-Ov",
        "outputId": "723ff341-4f10-4991-a17e-64f62236a28f"
      },
      "execution_count": null,
      "outputs": [
        {
          "output_type": "execute_result",
          "data": {
            "text/plain": [
              "            Purchase\n",
              "count  550068.000000\n",
              "mean     9263.968713\n",
              "std      5023.065394\n",
              "min        12.000000\n",
              "25%      5823.000000\n",
              "50%      8047.000000\n",
              "75%     12054.000000\n",
              "max     23961.000000"
            ],
            "text/html": [
              "\n",
              "  <div id=\"df-d99e2aca-566c-4fa0-95d8-4c27ac9f55fc\" class=\"colab-df-container\">\n",
              "    <div>\n",
              "<style scoped>\n",
              "    .dataframe tbody tr th:only-of-type {\n",
              "        vertical-align: middle;\n",
              "    }\n",
              "\n",
              "    .dataframe tbody tr th {\n",
              "        vertical-align: top;\n",
              "    }\n",
              "\n",
              "    .dataframe thead th {\n",
              "        text-align: right;\n",
              "    }\n",
              "</style>\n",
              "<table border=\"1\" class=\"dataframe\">\n",
              "  <thead>\n",
              "    <tr style=\"text-align: right;\">\n",
              "      <th></th>\n",
              "      <th>Purchase</th>\n",
              "    </tr>\n",
              "  </thead>\n",
              "  <tbody>\n",
              "    <tr>\n",
              "      <th>count</th>\n",
              "      <td>550068.000000</td>\n",
              "    </tr>\n",
              "    <tr>\n",
              "      <th>mean</th>\n",
              "      <td>9263.968713</td>\n",
              "    </tr>\n",
              "    <tr>\n",
              "      <th>std</th>\n",
              "      <td>5023.065394</td>\n",
              "    </tr>\n",
              "    <tr>\n",
              "      <th>min</th>\n",
              "      <td>12.000000</td>\n",
              "    </tr>\n",
              "    <tr>\n",
              "      <th>25%</th>\n",
              "      <td>5823.000000</td>\n",
              "    </tr>\n",
              "    <tr>\n",
              "      <th>50%</th>\n",
              "      <td>8047.000000</td>\n",
              "    </tr>\n",
              "    <tr>\n",
              "      <th>75%</th>\n",
              "      <td>12054.000000</td>\n",
              "    </tr>\n",
              "    <tr>\n",
              "      <th>max</th>\n",
              "      <td>23961.000000</td>\n",
              "    </tr>\n",
              "  </tbody>\n",
              "</table>\n",
              "</div>\n",
              "    <div class=\"colab-df-buttons\">\n",
              "\n",
              "  <div class=\"colab-df-container\">\n",
              "    <button class=\"colab-df-convert\" onclick=\"convertToInteractive('df-d99e2aca-566c-4fa0-95d8-4c27ac9f55fc')\"\n",
              "            title=\"Convert this dataframe to an interactive table.\"\n",
              "            style=\"display:none;\">\n",
              "\n",
              "  <svg xmlns=\"http://www.w3.org/2000/svg\" height=\"24px\" viewBox=\"0 -960 960 960\">\n",
              "    <path d=\"M120-120v-720h720v720H120Zm60-500h600v-160H180v160Zm220 220h160v-160H400v160Zm0 220h160v-160H400v160ZM180-400h160v-160H180v160Zm440 0h160v-160H620v160ZM180-180h160v-160H180v160Zm440 0h160v-160H620v160Z\"/>\n",
              "  </svg>\n",
              "    </button>\n",
              "\n",
              "  <style>\n",
              "    .colab-df-container {\n",
              "      display:flex;\n",
              "      gap: 12px;\n",
              "    }\n",
              "\n",
              "    .colab-df-convert {\n",
              "      background-color: #E8F0FE;\n",
              "      border: none;\n",
              "      border-radius: 50%;\n",
              "      cursor: pointer;\n",
              "      display: none;\n",
              "      fill: #1967D2;\n",
              "      height: 32px;\n",
              "      padding: 0 0 0 0;\n",
              "      width: 32px;\n",
              "    }\n",
              "\n",
              "    .colab-df-convert:hover {\n",
              "      background-color: #E2EBFA;\n",
              "      box-shadow: 0px 1px 2px rgba(60, 64, 67, 0.3), 0px 1px 3px 1px rgba(60, 64, 67, 0.15);\n",
              "      fill: #174EA6;\n",
              "    }\n",
              "\n",
              "    .colab-df-buttons div {\n",
              "      margin-bottom: 4px;\n",
              "    }\n",
              "\n",
              "    [theme=dark] .colab-df-convert {\n",
              "      background-color: #3B4455;\n",
              "      fill: #D2E3FC;\n",
              "    }\n",
              "\n",
              "    [theme=dark] .colab-df-convert:hover {\n",
              "      background-color: #434B5C;\n",
              "      box-shadow: 0px 1px 3px 1px rgba(0, 0, 0, 0.15);\n",
              "      filter: drop-shadow(0px 1px 2px rgba(0, 0, 0, 0.3));\n",
              "      fill: #FFFFFF;\n",
              "    }\n",
              "  </style>\n",
              "\n",
              "    <script>\n",
              "      const buttonEl =\n",
              "        document.querySelector('#df-d99e2aca-566c-4fa0-95d8-4c27ac9f55fc button.colab-df-convert');\n",
              "      buttonEl.style.display =\n",
              "        google.colab.kernel.accessAllowed ? 'block' : 'none';\n",
              "\n",
              "      async function convertToInteractive(key) {\n",
              "        const element = document.querySelector('#df-d99e2aca-566c-4fa0-95d8-4c27ac9f55fc');\n",
              "        const dataTable =\n",
              "          await google.colab.kernel.invokeFunction('convertToInteractive',\n",
              "                                                    [key], {});\n",
              "        if (!dataTable) return;\n",
              "\n",
              "        const docLinkHtml = 'Like what you see? Visit the ' +\n",
              "          '<a target=\"_blank\" href=https://colab.research.google.com/notebooks/data_table.ipynb>data table notebook</a>'\n",
              "          + ' to learn more about interactive tables.';\n",
              "        element.innerHTML = '';\n",
              "        dataTable['output_type'] = 'display_data';\n",
              "        await google.colab.output.renderOutput(dataTable, element);\n",
              "        const docLink = document.createElement('div');\n",
              "        docLink.innerHTML = docLinkHtml;\n",
              "        element.appendChild(docLink);\n",
              "      }\n",
              "    </script>\n",
              "  </div>\n",
              "\n",
              "\n",
              "<div id=\"df-6c1a2f12-f61d-41db-acda-e350a8da45ce\">\n",
              "  <button class=\"colab-df-quickchart\" onclick=\"quickchart('df-6c1a2f12-f61d-41db-acda-e350a8da45ce')\"\n",
              "            title=\"Suggest charts.\"\n",
              "            style=\"display:none;\">\n",
              "\n",
              "<svg xmlns=\"http://www.w3.org/2000/svg\" height=\"24px\"viewBox=\"0 0 24 24\"\n",
              "     width=\"24px\">\n",
              "    <g>\n",
              "        <path d=\"M19 3H5c-1.1 0-2 .9-2 2v14c0 1.1.9 2 2 2h14c1.1 0 2-.9 2-2V5c0-1.1-.9-2-2-2zM9 17H7v-7h2v7zm4 0h-2V7h2v10zm4 0h-2v-4h2v4z\"/>\n",
              "    </g>\n",
              "</svg>\n",
              "  </button>\n",
              "\n",
              "<style>\n",
              "  .colab-df-quickchart {\n",
              "      --bg-color: #E8F0FE;\n",
              "      --fill-color: #1967D2;\n",
              "      --hover-bg-color: #E2EBFA;\n",
              "      --hover-fill-color: #174EA6;\n",
              "      --disabled-fill-color: #AAA;\n",
              "      --disabled-bg-color: #DDD;\n",
              "  }\n",
              "\n",
              "  [theme=dark] .colab-df-quickchart {\n",
              "      --bg-color: #3B4455;\n",
              "      --fill-color: #D2E3FC;\n",
              "      --hover-bg-color: #434B5C;\n",
              "      --hover-fill-color: #FFFFFF;\n",
              "      --disabled-bg-color: #3B4455;\n",
              "      --disabled-fill-color: #666;\n",
              "  }\n",
              "\n",
              "  .colab-df-quickchart {\n",
              "    background-color: var(--bg-color);\n",
              "    border: none;\n",
              "    border-radius: 50%;\n",
              "    cursor: pointer;\n",
              "    display: none;\n",
              "    fill: var(--fill-color);\n",
              "    height: 32px;\n",
              "    padding: 0;\n",
              "    width: 32px;\n",
              "  }\n",
              "\n",
              "  .colab-df-quickchart:hover {\n",
              "    background-color: var(--hover-bg-color);\n",
              "    box-shadow: 0 1px 2px rgba(60, 64, 67, 0.3), 0 1px 3px 1px rgba(60, 64, 67, 0.15);\n",
              "    fill: var(--button-hover-fill-color);\n",
              "  }\n",
              "\n",
              "  .colab-df-quickchart-complete:disabled,\n",
              "  .colab-df-quickchart-complete:disabled:hover {\n",
              "    background-color: var(--disabled-bg-color);\n",
              "    fill: var(--disabled-fill-color);\n",
              "    box-shadow: none;\n",
              "  }\n",
              "\n",
              "  .colab-df-spinner {\n",
              "    border: 2px solid var(--fill-color);\n",
              "    border-color: transparent;\n",
              "    border-bottom-color: var(--fill-color);\n",
              "    animation:\n",
              "      spin 1s steps(1) infinite;\n",
              "  }\n",
              "\n",
              "  @keyframes spin {\n",
              "    0% {\n",
              "      border-color: transparent;\n",
              "      border-bottom-color: var(--fill-color);\n",
              "      border-left-color: var(--fill-color);\n",
              "    }\n",
              "    20% {\n",
              "      border-color: transparent;\n",
              "      border-left-color: var(--fill-color);\n",
              "      border-top-color: var(--fill-color);\n",
              "    }\n",
              "    30% {\n",
              "      border-color: transparent;\n",
              "      border-left-color: var(--fill-color);\n",
              "      border-top-color: var(--fill-color);\n",
              "      border-right-color: var(--fill-color);\n",
              "    }\n",
              "    40% {\n",
              "      border-color: transparent;\n",
              "      border-right-color: var(--fill-color);\n",
              "      border-top-color: var(--fill-color);\n",
              "    }\n",
              "    60% {\n",
              "      border-color: transparent;\n",
              "      border-right-color: var(--fill-color);\n",
              "    }\n",
              "    80% {\n",
              "      border-color: transparent;\n",
              "      border-right-color: var(--fill-color);\n",
              "      border-bottom-color: var(--fill-color);\n",
              "    }\n",
              "    90% {\n",
              "      border-color: transparent;\n",
              "      border-bottom-color: var(--fill-color);\n",
              "    }\n",
              "  }\n",
              "</style>\n",
              "\n",
              "  <script>\n",
              "    async function quickchart(key) {\n",
              "      const quickchartButtonEl =\n",
              "        document.querySelector('#' + key + ' button');\n",
              "      quickchartButtonEl.disabled = true;  // To prevent multiple clicks.\n",
              "      quickchartButtonEl.classList.add('colab-df-spinner');\n",
              "      try {\n",
              "        const charts = await google.colab.kernel.invokeFunction(\n",
              "            'suggestCharts', [key], {});\n",
              "      } catch (error) {\n",
              "        console.error('Error during call to suggestCharts:', error);\n",
              "      }\n",
              "      quickchartButtonEl.classList.remove('colab-df-spinner');\n",
              "      quickchartButtonEl.classList.add('colab-df-quickchart-complete');\n",
              "    }\n",
              "    (() => {\n",
              "      let quickchartButtonEl =\n",
              "        document.querySelector('#df-6c1a2f12-f61d-41db-acda-e350a8da45ce button');\n",
              "      quickchartButtonEl.style.display =\n",
              "        google.colab.kernel.accessAllowed ? 'block' : 'none';\n",
              "    })();\n",
              "  </script>\n",
              "</div>\n",
              "    </div>\n",
              "  </div>\n"
            ]
          },
          "metadata": {},
          "execution_count": 29
        }
      ]
    },
    {
      "cell_type": "code",
      "source": [
        "df.describe(include = \"object\")"
      ],
      "metadata": {
        "colab": {
          "base_uri": "https://localhost:8080/",
          "height": 175
        },
        "id": "bkwFEAutrjyi",
        "outputId": "6a5fd3cb-e10d-4719-b6a1-27a0d2fbc691"
      },
      "execution_count": null,
      "outputs": [
        {
          "output_type": "execute_result",
          "data": {
            "text/plain": [
              "        User_ID Product_ID  Gender     Age  Occupation City_Category  \\\n",
              "count    550068     550068  550068  550068      550068        550068   \n",
              "unique     5891       3631       2       7          21             3   \n",
              "top     1001680  P00265242       M   26-35           4             B   \n",
              "freq       1026       1880  414259  219587       72308        231173   \n",
              "\n",
              "       Stay_In_Current_City_Years  Marital_Status  Product_Category  \n",
              "count                      550068          550068            550068  \n",
              "unique                          5               2                20  \n",
              "top                             1               0                 5  \n",
              "freq                       193821          324731            150933  "
            ],
            "text/html": [
              "\n",
              "  <div id=\"df-4fde8cc6-8a62-4802-a1aa-fc3efff7aa1a\" class=\"colab-df-container\">\n",
              "    <div>\n",
              "<style scoped>\n",
              "    .dataframe tbody tr th:only-of-type {\n",
              "        vertical-align: middle;\n",
              "    }\n",
              "\n",
              "    .dataframe tbody tr th {\n",
              "        vertical-align: top;\n",
              "    }\n",
              "\n",
              "    .dataframe thead th {\n",
              "        text-align: right;\n",
              "    }\n",
              "</style>\n",
              "<table border=\"1\" class=\"dataframe\">\n",
              "  <thead>\n",
              "    <tr style=\"text-align: right;\">\n",
              "      <th></th>\n",
              "      <th>User_ID</th>\n",
              "      <th>Product_ID</th>\n",
              "      <th>Gender</th>\n",
              "      <th>Age</th>\n",
              "      <th>Occupation</th>\n",
              "      <th>City_Category</th>\n",
              "      <th>Stay_In_Current_City_Years</th>\n",
              "      <th>Marital_Status</th>\n",
              "      <th>Product_Category</th>\n",
              "    </tr>\n",
              "  </thead>\n",
              "  <tbody>\n",
              "    <tr>\n",
              "      <th>count</th>\n",
              "      <td>550068</td>\n",
              "      <td>550068</td>\n",
              "      <td>550068</td>\n",
              "      <td>550068</td>\n",
              "      <td>550068</td>\n",
              "      <td>550068</td>\n",
              "      <td>550068</td>\n",
              "      <td>550068</td>\n",
              "      <td>550068</td>\n",
              "    </tr>\n",
              "    <tr>\n",
              "      <th>unique</th>\n",
              "      <td>5891</td>\n",
              "      <td>3631</td>\n",
              "      <td>2</td>\n",
              "      <td>7</td>\n",
              "      <td>21</td>\n",
              "      <td>3</td>\n",
              "      <td>5</td>\n",
              "      <td>2</td>\n",
              "      <td>20</td>\n",
              "    </tr>\n",
              "    <tr>\n",
              "      <th>top</th>\n",
              "      <td>1001680</td>\n",
              "      <td>P00265242</td>\n",
              "      <td>M</td>\n",
              "      <td>26-35</td>\n",
              "      <td>4</td>\n",
              "      <td>B</td>\n",
              "      <td>1</td>\n",
              "      <td>0</td>\n",
              "      <td>5</td>\n",
              "    </tr>\n",
              "    <tr>\n",
              "      <th>freq</th>\n",
              "      <td>1026</td>\n",
              "      <td>1880</td>\n",
              "      <td>414259</td>\n",
              "      <td>219587</td>\n",
              "      <td>72308</td>\n",
              "      <td>231173</td>\n",
              "      <td>193821</td>\n",
              "      <td>324731</td>\n",
              "      <td>150933</td>\n",
              "    </tr>\n",
              "  </tbody>\n",
              "</table>\n",
              "</div>\n",
              "    <div class=\"colab-df-buttons\">\n",
              "\n",
              "  <div class=\"colab-df-container\">\n",
              "    <button class=\"colab-df-convert\" onclick=\"convertToInteractive('df-4fde8cc6-8a62-4802-a1aa-fc3efff7aa1a')\"\n",
              "            title=\"Convert this dataframe to an interactive table.\"\n",
              "            style=\"display:none;\">\n",
              "\n",
              "  <svg xmlns=\"http://www.w3.org/2000/svg\" height=\"24px\" viewBox=\"0 -960 960 960\">\n",
              "    <path d=\"M120-120v-720h720v720H120Zm60-500h600v-160H180v160Zm220 220h160v-160H400v160Zm0 220h160v-160H400v160ZM180-400h160v-160H180v160Zm440 0h160v-160H620v160ZM180-180h160v-160H180v160Zm440 0h160v-160H620v160Z\"/>\n",
              "  </svg>\n",
              "    </button>\n",
              "\n",
              "  <style>\n",
              "    .colab-df-container {\n",
              "      display:flex;\n",
              "      gap: 12px;\n",
              "    }\n",
              "\n",
              "    .colab-df-convert {\n",
              "      background-color: #E8F0FE;\n",
              "      border: none;\n",
              "      border-radius: 50%;\n",
              "      cursor: pointer;\n",
              "      display: none;\n",
              "      fill: #1967D2;\n",
              "      height: 32px;\n",
              "      padding: 0 0 0 0;\n",
              "      width: 32px;\n",
              "    }\n",
              "\n",
              "    .colab-df-convert:hover {\n",
              "      background-color: #E2EBFA;\n",
              "      box-shadow: 0px 1px 2px rgba(60, 64, 67, 0.3), 0px 1px 3px 1px rgba(60, 64, 67, 0.15);\n",
              "      fill: #174EA6;\n",
              "    }\n",
              "\n",
              "    .colab-df-buttons div {\n",
              "      margin-bottom: 4px;\n",
              "    }\n",
              "\n",
              "    [theme=dark] .colab-df-convert {\n",
              "      background-color: #3B4455;\n",
              "      fill: #D2E3FC;\n",
              "    }\n",
              "\n",
              "    [theme=dark] .colab-df-convert:hover {\n",
              "      background-color: #434B5C;\n",
              "      box-shadow: 0px 1px 3px 1px rgba(0, 0, 0, 0.15);\n",
              "      filter: drop-shadow(0px 1px 2px rgba(0, 0, 0, 0.3));\n",
              "      fill: #FFFFFF;\n",
              "    }\n",
              "  </style>\n",
              "\n",
              "    <script>\n",
              "      const buttonEl =\n",
              "        document.querySelector('#df-4fde8cc6-8a62-4802-a1aa-fc3efff7aa1a button.colab-df-convert');\n",
              "      buttonEl.style.display =\n",
              "        google.colab.kernel.accessAllowed ? 'block' : 'none';\n",
              "\n",
              "      async function convertToInteractive(key) {\n",
              "        const element = document.querySelector('#df-4fde8cc6-8a62-4802-a1aa-fc3efff7aa1a');\n",
              "        const dataTable =\n",
              "          await google.colab.kernel.invokeFunction('convertToInteractive',\n",
              "                                                    [key], {});\n",
              "        if (!dataTable) return;\n",
              "\n",
              "        const docLinkHtml = 'Like what you see? Visit the ' +\n",
              "          '<a target=\"_blank\" href=https://colab.research.google.com/notebooks/data_table.ipynb>data table notebook</a>'\n",
              "          + ' to learn more about interactive tables.';\n",
              "        element.innerHTML = '';\n",
              "        dataTable['output_type'] = 'display_data';\n",
              "        await google.colab.output.renderOutput(dataTable, element);\n",
              "        const docLink = document.createElement('div');\n",
              "        docLink.innerHTML = docLinkHtml;\n",
              "        element.appendChild(docLink);\n",
              "      }\n",
              "    </script>\n",
              "  </div>\n",
              "\n",
              "\n",
              "<div id=\"df-bb037326-0c36-4afe-aa79-3d0b07ddedf3\">\n",
              "  <button class=\"colab-df-quickchart\" onclick=\"quickchart('df-bb037326-0c36-4afe-aa79-3d0b07ddedf3')\"\n",
              "            title=\"Suggest charts.\"\n",
              "            style=\"display:none;\">\n",
              "\n",
              "<svg xmlns=\"http://www.w3.org/2000/svg\" height=\"24px\"viewBox=\"0 0 24 24\"\n",
              "     width=\"24px\">\n",
              "    <g>\n",
              "        <path d=\"M19 3H5c-1.1 0-2 .9-2 2v14c0 1.1.9 2 2 2h14c1.1 0 2-.9 2-2V5c0-1.1-.9-2-2-2zM9 17H7v-7h2v7zm4 0h-2V7h2v10zm4 0h-2v-4h2v4z\"/>\n",
              "    </g>\n",
              "</svg>\n",
              "  </button>\n",
              "\n",
              "<style>\n",
              "  .colab-df-quickchart {\n",
              "      --bg-color: #E8F0FE;\n",
              "      --fill-color: #1967D2;\n",
              "      --hover-bg-color: #E2EBFA;\n",
              "      --hover-fill-color: #174EA6;\n",
              "      --disabled-fill-color: #AAA;\n",
              "      --disabled-bg-color: #DDD;\n",
              "  }\n",
              "\n",
              "  [theme=dark] .colab-df-quickchart {\n",
              "      --bg-color: #3B4455;\n",
              "      --fill-color: #D2E3FC;\n",
              "      --hover-bg-color: #434B5C;\n",
              "      --hover-fill-color: #FFFFFF;\n",
              "      --disabled-bg-color: #3B4455;\n",
              "      --disabled-fill-color: #666;\n",
              "  }\n",
              "\n",
              "  .colab-df-quickchart {\n",
              "    background-color: var(--bg-color);\n",
              "    border: none;\n",
              "    border-radius: 50%;\n",
              "    cursor: pointer;\n",
              "    display: none;\n",
              "    fill: var(--fill-color);\n",
              "    height: 32px;\n",
              "    padding: 0;\n",
              "    width: 32px;\n",
              "  }\n",
              "\n",
              "  .colab-df-quickchart:hover {\n",
              "    background-color: var(--hover-bg-color);\n",
              "    box-shadow: 0 1px 2px rgba(60, 64, 67, 0.3), 0 1px 3px 1px rgba(60, 64, 67, 0.15);\n",
              "    fill: var(--button-hover-fill-color);\n",
              "  }\n",
              "\n",
              "  .colab-df-quickchart-complete:disabled,\n",
              "  .colab-df-quickchart-complete:disabled:hover {\n",
              "    background-color: var(--disabled-bg-color);\n",
              "    fill: var(--disabled-fill-color);\n",
              "    box-shadow: none;\n",
              "  }\n",
              "\n",
              "  .colab-df-spinner {\n",
              "    border: 2px solid var(--fill-color);\n",
              "    border-color: transparent;\n",
              "    border-bottom-color: var(--fill-color);\n",
              "    animation:\n",
              "      spin 1s steps(1) infinite;\n",
              "  }\n",
              "\n",
              "  @keyframes spin {\n",
              "    0% {\n",
              "      border-color: transparent;\n",
              "      border-bottom-color: var(--fill-color);\n",
              "      border-left-color: var(--fill-color);\n",
              "    }\n",
              "    20% {\n",
              "      border-color: transparent;\n",
              "      border-left-color: var(--fill-color);\n",
              "      border-top-color: var(--fill-color);\n",
              "    }\n",
              "    30% {\n",
              "      border-color: transparent;\n",
              "      border-left-color: var(--fill-color);\n",
              "      border-top-color: var(--fill-color);\n",
              "      border-right-color: var(--fill-color);\n",
              "    }\n",
              "    40% {\n",
              "      border-color: transparent;\n",
              "      border-right-color: var(--fill-color);\n",
              "      border-top-color: var(--fill-color);\n",
              "    }\n",
              "    60% {\n",
              "      border-color: transparent;\n",
              "      border-right-color: var(--fill-color);\n",
              "    }\n",
              "    80% {\n",
              "      border-color: transparent;\n",
              "      border-right-color: var(--fill-color);\n",
              "      border-bottom-color: var(--fill-color);\n",
              "    }\n",
              "    90% {\n",
              "      border-color: transparent;\n",
              "      border-bottom-color: var(--fill-color);\n",
              "    }\n",
              "  }\n",
              "</style>\n",
              "\n",
              "  <script>\n",
              "    async function quickchart(key) {\n",
              "      const quickchartButtonEl =\n",
              "        document.querySelector('#' + key + ' button');\n",
              "      quickchartButtonEl.disabled = true;  // To prevent multiple clicks.\n",
              "      quickchartButtonEl.classList.add('colab-df-spinner');\n",
              "      try {\n",
              "        const charts = await google.colab.kernel.invokeFunction(\n",
              "            'suggestCharts', [key], {});\n",
              "      } catch (error) {\n",
              "        console.error('Error during call to suggestCharts:', error);\n",
              "      }\n",
              "      quickchartButtonEl.classList.remove('colab-df-spinner');\n",
              "      quickchartButtonEl.classList.add('colab-df-quickchart-complete');\n",
              "    }\n",
              "    (() => {\n",
              "      let quickchartButtonEl =\n",
              "        document.querySelector('#df-bb037326-0c36-4afe-aa79-3d0b07ddedf3 button');\n",
              "      quickchartButtonEl.style.display =\n",
              "        google.colab.kernel.accessAllowed ? 'block' : 'none';\n",
              "    })();\n",
              "  </script>\n",
              "</div>\n",
              "    </div>\n",
              "  </div>\n"
            ]
          },
          "metadata": {},
          "execution_count": 5
        }
      ]
    },
    {
      "cell_type": "markdown",
      "source": [
        "\n",
        "\n",
        "---\n",
        "\n",
        "# **Observation Insight of Section 1.1**\n",
        "\n",
        "\n",
        "Total Records: There are 550,068 records in the dataset.\n",
        "\n",
        "1. **Unique Users:** There are 5,891 unique User_IDs in the dataset.\n",
        "Unique Products: There are 3,631 unique Product_IDs in the dataset\n",
        "\n",
        "\n",
        "2. **Gender Distribution:** There are two genders: Male (M) and Female (F). The most frequent gender in the dataset is Male (M).\n",
        "\n",
        "\n",
        "3. **Age Distribution:** Customers are categorized into 7 different age groups. The most common age group in the dataset is \"26-35.\"\n",
        "\n",
        "4. **Occupation Variety:** There are 21 different occupation codes. 4 is most common.\n",
        "\n",
        "5. **City Categories:** Customers are categorized by their city of residence into three categories: A, B, and C. Maximum customers are from \"B\" city.\n",
        "\n",
        "6. **Stay Duration:** Customers are categorized based on how long they have stayed in their current city. Most of the customers are living in the cities from 1 Year\n",
        "\n",
        "7. **Marital Status:** The dataset includes information on marital status, with two categories: 0 (Not married) and 1 (Married). The most common status is \"Not married.\"\n",
        "\n",
        "8. **Product Categories:** There are 20 different product categories in the dataset. The most frequently occurring product category is 5.\n",
        "\n",
        "\n",
        "\n",
        "\n"
      ],
      "metadata": {
        "id": "GMqobuX9cXgp"
      }
    },
    {
      "cell_type": "markdown",
      "source": [
        "#Section 1.2 Non-Graphical Analysis: Value counts and unique attributes ​"
      ],
      "metadata": {
        "id": "u8zzSwse-2vu"
      }
    },
    {
      "cell_type": "code",
      "source": [
        "df[\"Gender\"].value_counts()\n",
        "# Checking how categorical variables contributes to the entire data\n",
        "categ_cols = ['Gender', 'Age', 'City_Category', 'Stay_In_Current_City_Years', 'Marital_Status']\n",
        "df[categ_cols].melt().groupby(['variable', 'value']).nunique()"
      ],
      "metadata": {
        "colab": {
          "base_uri": "https://localhost:8080/",
          "height": 659
        },
        "id": "VZvqkVPqA-53",
        "outputId": "d77a9ad4-908c-44db-ef23-18fc41ee4cb8"
      },
      "execution_count": null,
      "outputs": [
        {
          "output_type": "execute_result",
          "data": {
            "text/plain": [
              "Empty DataFrame\n",
              "Columns: []\n",
              "Index: [(Age, 0-17), (Age, 18-25), (Age, 26-35), (Age, 36-45), (Age, 46-50), (Age, 51-55), (Age, 55+), (City_Category, A), (City_Category, B), (City_Category, C), (Gender, F), (Gender, M), (Marital_Status, 0), (Marital_Status, 1), (Stay_In_Current_City_Years, 0), (Stay_In_Current_City_Years, 1), (Stay_In_Current_City_Years, 2), (Stay_In_Current_City_Years, 3), (Stay_In_Current_City_Years, 4+)]"
            ],
            "text/html": [
              "\n",
              "  <div id=\"df-c8b27b84-e894-430c-9c77-a223821940c1\" class=\"colab-df-container\">\n",
              "    <div>\n",
              "<style scoped>\n",
              "    .dataframe tbody tr th:only-of-type {\n",
              "        vertical-align: middle;\n",
              "    }\n",
              "\n",
              "    .dataframe tbody tr th {\n",
              "        vertical-align: top;\n",
              "    }\n",
              "\n",
              "    .dataframe thead th {\n",
              "        text-align: right;\n",
              "    }\n",
              "</style>\n",
              "<table border=\"1\" class=\"dataframe\">\n",
              "  <thead>\n",
              "    <tr style=\"text-align: right;\">\n",
              "      <th></th>\n",
              "      <th></th>\n",
              "    </tr>\n",
              "    <tr>\n",
              "      <th>variable</th>\n",
              "      <th>value</th>\n",
              "    </tr>\n",
              "  </thead>\n",
              "  <tbody>\n",
              "    <tr>\n",
              "      <th rowspan=\"7\" valign=\"top\">Age</th>\n",
              "      <th>0-17</th>\n",
              "    </tr>\n",
              "    <tr>\n",
              "      <th>18-25</th>\n",
              "    </tr>\n",
              "    <tr>\n",
              "      <th>26-35</th>\n",
              "    </tr>\n",
              "    <tr>\n",
              "      <th>36-45</th>\n",
              "    </tr>\n",
              "    <tr>\n",
              "      <th>46-50</th>\n",
              "    </tr>\n",
              "    <tr>\n",
              "      <th>51-55</th>\n",
              "    </tr>\n",
              "    <tr>\n",
              "      <th>55+</th>\n",
              "    </tr>\n",
              "    <tr>\n",
              "      <th rowspan=\"3\" valign=\"top\">City_Category</th>\n",
              "      <th>A</th>\n",
              "    </tr>\n",
              "    <tr>\n",
              "      <th>B</th>\n",
              "    </tr>\n",
              "    <tr>\n",
              "      <th>C</th>\n",
              "    </tr>\n",
              "    <tr>\n",
              "      <th rowspan=\"2\" valign=\"top\">Gender</th>\n",
              "      <th>F</th>\n",
              "    </tr>\n",
              "    <tr>\n",
              "      <th>M</th>\n",
              "    </tr>\n",
              "    <tr>\n",
              "      <th rowspan=\"2\" valign=\"top\">Marital_Status</th>\n",
              "      <th>0</th>\n",
              "    </tr>\n",
              "    <tr>\n",
              "      <th>1</th>\n",
              "    </tr>\n",
              "    <tr>\n",
              "      <th rowspan=\"5\" valign=\"top\">Stay_In_Current_City_Years</th>\n",
              "      <th>0</th>\n",
              "    </tr>\n",
              "    <tr>\n",
              "      <th>1</th>\n",
              "    </tr>\n",
              "    <tr>\n",
              "      <th>2</th>\n",
              "    </tr>\n",
              "    <tr>\n",
              "      <th>3</th>\n",
              "    </tr>\n",
              "    <tr>\n",
              "      <th>4+</th>\n",
              "    </tr>\n",
              "  </tbody>\n",
              "</table>\n",
              "</div>\n",
              "    <div class=\"colab-df-buttons\">\n",
              "\n",
              "  <div class=\"colab-df-container\">\n",
              "    <button class=\"colab-df-convert\" onclick=\"convertToInteractive('df-c8b27b84-e894-430c-9c77-a223821940c1')\"\n",
              "            title=\"Convert this dataframe to an interactive table.\"\n",
              "            style=\"display:none;\">\n",
              "\n",
              "  <svg xmlns=\"http://www.w3.org/2000/svg\" height=\"24px\" viewBox=\"0 -960 960 960\">\n",
              "    <path d=\"M120-120v-720h720v720H120Zm60-500h600v-160H180v160Zm220 220h160v-160H400v160Zm0 220h160v-160H400v160ZM180-400h160v-160H180v160Zm440 0h160v-160H620v160ZM180-180h160v-160H180v160Zm440 0h160v-160H620v160Z\"/>\n",
              "  </svg>\n",
              "    </button>\n",
              "\n",
              "  <style>\n",
              "    .colab-df-container {\n",
              "      display:flex;\n",
              "      gap: 12px;\n",
              "    }\n",
              "\n",
              "    .colab-df-convert {\n",
              "      background-color: #E8F0FE;\n",
              "      border: none;\n",
              "      border-radius: 50%;\n",
              "      cursor: pointer;\n",
              "      display: none;\n",
              "      fill: #1967D2;\n",
              "      height: 32px;\n",
              "      padding: 0 0 0 0;\n",
              "      width: 32px;\n",
              "    }\n",
              "\n",
              "    .colab-df-convert:hover {\n",
              "      background-color: #E2EBFA;\n",
              "      box-shadow: 0px 1px 2px rgba(60, 64, 67, 0.3), 0px 1px 3px 1px rgba(60, 64, 67, 0.15);\n",
              "      fill: #174EA6;\n",
              "    }\n",
              "\n",
              "    .colab-df-buttons div {\n",
              "      margin-bottom: 4px;\n",
              "    }\n",
              "\n",
              "    [theme=dark] .colab-df-convert {\n",
              "      background-color: #3B4455;\n",
              "      fill: #D2E3FC;\n",
              "    }\n",
              "\n",
              "    [theme=dark] .colab-df-convert:hover {\n",
              "      background-color: #434B5C;\n",
              "      box-shadow: 0px 1px 3px 1px rgba(0, 0, 0, 0.15);\n",
              "      filter: drop-shadow(0px 1px 2px rgba(0, 0, 0, 0.3));\n",
              "      fill: #FFFFFF;\n",
              "    }\n",
              "  </style>\n",
              "\n",
              "    <script>\n",
              "      const buttonEl =\n",
              "        document.querySelector('#df-c8b27b84-e894-430c-9c77-a223821940c1 button.colab-df-convert');\n",
              "      buttonEl.style.display =\n",
              "        google.colab.kernel.accessAllowed ? 'block' : 'none';\n",
              "\n",
              "      async function convertToInteractive(key) {\n",
              "        const element = document.querySelector('#df-c8b27b84-e894-430c-9c77-a223821940c1');\n",
              "        const dataTable =\n",
              "          await google.colab.kernel.invokeFunction('convertToInteractive',\n",
              "                                                    [key], {});\n",
              "        if (!dataTable) return;\n",
              "\n",
              "        const docLinkHtml = 'Like what you see? Visit the ' +\n",
              "          '<a target=\"_blank\" href=https://colab.research.google.com/notebooks/data_table.ipynb>data table notebook</a>'\n",
              "          + ' to learn more about interactive tables.';\n",
              "        element.innerHTML = '';\n",
              "        dataTable['output_type'] = 'display_data';\n",
              "        await google.colab.output.renderOutput(dataTable, element);\n",
              "        const docLink = document.createElement('div');\n",
              "        docLink.innerHTML = docLinkHtml;\n",
              "        element.appendChild(docLink);\n",
              "      }\n",
              "    </script>\n",
              "  </div>\n",
              "\n",
              "\n",
              "<div id=\"df-2a6150fe-a619-4acd-82d3-80ce47fcf004\">\n",
              "  <button class=\"colab-df-quickchart\" onclick=\"quickchart('df-2a6150fe-a619-4acd-82d3-80ce47fcf004')\"\n",
              "            title=\"Suggest charts.\"\n",
              "            style=\"display:none;\">\n",
              "\n",
              "<svg xmlns=\"http://www.w3.org/2000/svg\" height=\"24px\"viewBox=\"0 0 24 24\"\n",
              "     width=\"24px\">\n",
              "    <g>\n",
              "        <path d=\"M19 3H5c-1.1 0-2 .9-2 2v14c0 1.1.9 2 2 2h14c1.1 0 2-.9 2-2V5c0-1.1-.9-2-2-2zM9 17H7v-7h2v7zm4 0h-2V7h2v10zm4 0h-2v-4h2v4z\"/>\n",
              "    </g>\n",
              "</svg>\n",
              "  </button>\n",
              "\n",
              "<style>\n",
              "  .colab-df-quickchart {\n",
              "      --bg-color: #E8F0FE;\n",
              "      --fill-color: #1967D2;\n",
              "      --hover-bg-color: #E2EBFA;\n",
              "      --hover-fill-color: #174EA6;\n",
              "      --disabled-fill-color: #AAA;\n",
              "      --disabled-bg-color: #DDD;\n",
              "  }\n",
              "\n",
              "  [theme=dark] .colab-df-quickchart {\n",
              "      --bg-color: #3B4455;\n",
              "      --fill-color: #D2E3FC;\n",
              "      --hover-bg-color: #434B5C;\n",
              "      --hover-fill-color: #FFFFFF;\n",
              "      --disabled-bg-color: #3B4455;\n",
              "      --disabled-fill-color: #666;\n",
              "  }\n",
              "\n",
              "  .colab-df-quickchart {\n",
              "    background-color: var(--bg-color);\n",
              "    border: none;\n",
              "    border-radius: 50%;\n",
              "    cursor: pointer;\n",
              "    display: none;\n",
              "    fill: var(--fill-color);\n",
              "    height: 32px;\n",
              "    padding: 0;\n",
              "    width: 32px;\n",
              "  }\n",
              "\n",
              "  .colab-df-quickchart:hover {\n",
              "    background-color: var(--hover-bg-color);\n",
              "    box-shadow: 0 1px 2px rgba(60, 64, 67, 0.3), 0 1px 3px 1px rgba(60, 64, 67, 0.15);\n",
              "    fill: var(--button-hover-fill-color);\n",
              "  }\n",
              "\n",
              "  .colab-df-quickchart-complete:disabled,\n",
              "  .colab-df-quickchart-complete:disabled:hover {\n",
              "    background-color: var(--disabled-bg-color);\n",
              "    fill: var(--disabled-fill-color);\n",
              "    box-shadow: none;\n",
              "  }\n",
              "\n",
              "  .colab-df-spinner {\n",
              "    border: 2px solid var(--fill-color);\n",
              "    border-color: transparent;\n",
              "    border-bottom-color: var(--fill-color);\n",
              "    animation:\n",
              "      spin 1s steps(1) infinite;\n",
              "  }\n",
              "\n",
              "  @keyframes spin {\n",
              "    0% {\n",
              "      border-color: transparent;\n",
              "      border-bottom-color: var(--fill-color);\n",
              "      border-left-color: var(--fill-color);\n",
              "    }\n",
              "    20% {\n",
              "      border-color: transparent;\n",
              "      border-left-color: var(--fill-color);\n",
              "      border-top-color: var(--fill-color);\n",
              "    }\n",
              "    30% {\n",
              "      border-color: transparent;\n",
              "      border-left-color: var(--fill-color);\n",
              "      border-top-color: var(--fill-color);\n",
              "      border-right-color: var(--fill-color);\n",
              "    }\n",
              "    40% {\n",
              "      border-color: transparent;\n",
              "      border-right-color: var(--fill-color);\n",
              "      border-top-color: var(--fill-color);\n",
              "    }\n",
              "    60% {\n",
              "      border-color: transparent;\n",
              "      border-right-color: var(--fill-color);\n",
              "    }\n",
              "    80% {\n",
              "      border-color: transparent;\n",
              "      border-right-color: var(--fill-color);\n",
              "      border-bottom-color: var(--fill-color);\n",
              "    }\n",
              "    90% {\n",
              "      border-color: transparent;\n",
              "      border-bottom-color: var(--fill-color);\n",
              "    }\n",
              "  }\n",
              "</style>\n",
              "\n",
              "  <script>\n",
              "    async function quickchart(key) {\n",
              "      const quickchartButtonEl =\n",
              "        document.querySelector('#' + key + ' button');\n",
              "      quickchartButtonEl.disabled = true;  // To prevent multiple clicks.\n",
              "      quickchartButtonEl.classList.add('colab-df-spinner');\n",
              "      try {\n",
              "        const charts = await google.colab.kernel.invokeFunction(\n",
              "            'suggestCharts', [key], {});\n",
              "      } catch (error) {\n",
              "        console.error('Error during call to suggestCharts:', error);\n",
              "      }\n",
              "      quickchartButtonEl.classList.remove('colab-df-spinner');\n",
              "      quickchartButtonEl.classList.add('colab-df-quickchart-complete');\n",
              "    }\n",
              "    (() => {\n",
              "      let quickchartButtonEl =\n",
              "        document.querySelector('#df-2a6150fe-a619-4acd-82d3-80ce47fcf004 button');\n",
              "      quickchartButtonEl.style.display =\n",
              "        google.colab.kernel.accessAllowed ? 'block' : 'none';\n",
              "    })();\n",
              "  </script>\n",
              "</div>\n",
              "    </div>\n",
              "  </div>\n"
            ]
          },
          "metadata": {},
          "execution_count": 5
        }
      ]
    },
    {
      "cell_type": "code",
      "source": [
        "\n",
        "# Checking how categorical variables contributes to the entire data\n",
        "categ_cols = ['Gender', 'Age', 'City_Category', 'Stay_In_Current_City_Years', 'Marital_Status','Occupation', \"Product_Category\"]\n",
        "df[categ_cols].melt().groupby(['variable', 'value'])[['value']].count()/len(df)"
      ],
      "metadata": {
        "colab": {
          "base_uri": "https://localhost:8080/",
          "height": 1000
        },
        "id": "jlnVPPnK-8y1",
        "outputId": "f6659c54-1d7f-4246-c3f9-9b7a44530c1c"
      },
      "execution_count": null,
      "outputs": [
        {
          "output_type": "execute_result",
          "data": {
            "text/plain": [
              "                                     value\n",
              "variable                   value          \n",
              "Age                        0-17   0.027455\n",
              "                           18-25  0.181178\n",
              "                           26-35  0.399200\n",
              "                           36-45  0.199999\n",
              "                           46-50  0.083082\n",
              "                           51-55  0.069993\n",
              "                           55+    0.039093\n",
              "City_Category              A      0.268549\n",
              "                           B      0.420263\n",
              "                           C      0.311189\n",
              "Gender                     F      0.246895\n",
              "                           M      0.753105\n",
              "Marital_Status             0      0.590347\n",
              "                           1      0.409653\n",
              "Occupation                 0      0.126599\n",
              "                           1      0.086218\n",
              "                           2      0.048336\n",
              "                           3      0.032087\n",
              "                           4      0.131453\n",
              "                           5      0.022137\n",
              "                           6      0.037005\n",
              "                           7      0.107501\n",
              "                           8      0.002811\n",
              "                           9      0.011437\n",
              "                           10     0.023506\n",
              "                           11     0.021063\n",
              "                           12     0.056682\n",
              "                           13     0.014049\n",
              "                           14     0.049647\n",
              "                           15     0.022115\n",
              "                           16     0.046123\n",
              "                           17     0.072796\n",
              "                           18     0.012039\n",
              "                           19     0.015382\n",
              "                           20     0.061014\n",
              "Product_Category           1      0.255201\n",
              "                           2      0.043384\n",
              "                           3      0.036746\n",
              "                           4      0.021366\n",
              "                           5      0.274390\n",
              "                           6      0.037206\n",
              "                           7      0.006765\n",
              "                           8      0.207111\n",
              "                           9      0.000745\n",
              "                           10     0.009317\n",
              "                           11     0.044153\n",
              "                           12     0.007175\n",
              "                           13     0.010088\n",
              "                           14     0.002769\n",
              "                           15     0.011435\n",
              "                           16     0.017867\n",
              "                           17     0.001051\n",
              "                           18     0.005681\n",
              "                           19     0.002914\n",
              "                           20     0.004636\n",
              "Stay_In_Current_City_Years 0      0.135252\n",
              "                           1      0.352358\n",
              "                           2      0.185137\n",
              "                           3      0.173224\n",
              "                           4+     0.154028"
            ],
            "text/html": [
              "\n",
              "  <div id=\"df-dae81e73-7076-459b-aa71-1bd413e826d7\" class=\"colab-df-container\">\n",
              "    <div>\n",
              "<style scoped>\n",
              "    .dataframe tbody tr th:only-of-type {\n",
              "        vertical-align: middle;\n",
              "    }\n",
              "\n",
              "    .dataframe tbody tr th {\n",
              "        vertical-align: top;\n",
              "    }\n",
              "\n",
              "    .dataframe thead th {\n",
              "        text-align: right;\n",
              "    }\n",
              "</style>\n",
              "<table border=\"1\" class=\"dataframe\">\n",
              "  <thead>\n",
              "    <tr style=\"text-align: right;\">\n",
              "      <th></th>\n",
              "      <th></th>\n",
              "      <th>value</th>\n",
              "    </tr>\n",
              "    <tr>\n",
              "      <th>variable</th>\n",
              "      <th>value</th>\n",
              "      <th></th>\n",
              "    </tr>\n",
              "  </thead>\n",
              "  <tbody>\n",
              "    <tr>\n",
              "      <th rowspan=\"7\" valign=\"top\">Age</th>\n",
              "      <th>0-17</th>\n",
              "      <td>0.027455</td>\n",
              "    </tr>\n",
              "    <tr>\n",
              "      <th>18-25</th>\n",
              "      <td>0.181178</td>\n",
              "    </tr>\n",
              "    <tr>\n",
              "      <th>26-35</th>\n",
              "      <td>0.399200</td>\n",
              "    </tr>\n",
              "    <tr>\n",
              "      <th>36-45</th>\n",
              "      <td>0.199999</td>\n",
              "    </tr>\n",
              "    <tr>\n",
              "      <th>46-50</th>\n",
              "      <td>0.083082</td>\n",
              "    </tr>\n",
              "    <tr>\n",
              "      <th>51-55</th>\n",
              "      <td>0.069993</td>\n",
              "    </tr>\n",
              "    <tr>\n",
              "      <th>55+</th>\n",
              "      <td>0.039093</td>\n",
              "    </tr>\n",
              "    <tr>\n",
              "      <th rowspan=\"3\" valign=\"top\">City_Category</th>\n",
              "      <th>A</th>\n",
              "      <td>0.268549</td>\n",
              "    </tr>\n",
              "    <tr>\n",
              "      <th>B</th>\n",
              "      <td>0.420263</td>\n",
              "    </tr>\n",
              "    <tr>\n",
              "      <th>C</th>\n",
              "      <td>0.311189</td>\n",
              "    </tr>\n",
              "    <tr>\n",
              "      <th rowspan=\"2\" valign=\"top\">Gender</th>\n",
              "      <th>F</th>\n",
              "      <td>0.246895</td>\n",
              "    </tr>\n",
              "    <tr>\n",
              "      <th>M</th>\n",
              "      <td>0.753105</td>\n",
              "    </tr>\n",
              "    <tr>\n",
              "      <th rowspan=\"2\" valign=\"top\">Marital_Status</th>\n",
              "      <th>0</th>\n",
              "      <td>0.590347</td>\n",
              "    </tr>\n",
              "    <tr>\n",
              "      <th>1</th>\n",
              "      <td>0.409653</td>\n",
              "    </tr>\n",
              "    <tr>\n",
              "      <th rowspan=\"21\" valign=\"top\">Occupation</th>\n",
              "      <th>0</th>\n",
              "      <td>0.126599</td>\n",
              "    </tr>\n",
              "    <tr>\n",
              "      <th>1</th>\n",
              "      <td>0.086218</td>\n",
              "    </tr>\n",
              "    <tr>\n",
              "      <th>2</th>\n",
              "      <td>0.048336</td>\n",
              "    </tr>\n",
              "    <tr>\n",
              "      <th>3</th>\n",
              "      <td>0.032087</td>\n",
              "    </tr>\n",
              "    <tr>\n",
              "      <th>4</th>\n",
              "      <td>0.131453</td>\n",
              "    </tr>\n",
              "    <tr>\n",
              "      <th>5</th>\n",
              "      <td>0.022137</td>\n",
              "    </tr>\n",
              "    <tr>\n",
              "      <th>6</th>\n",
              "      <td>0.037005</td>\n",
              "    </tr>\n",
              "    <tr>\n",
              "      <th>7</th>\n",
              "      <td>0.107501</td>\n",
              "    </tr>\n",
              "    <tr>\n",
              "      <th>8</th>\n",
              "      <td>0.002811</td>\n",
              "    </tr>\n",
              "    <tr>\n",
              "      <th>9</th>\n",
              "      <td>0.011437</td>\n",
              "    </tr>\n",
              "    <tr>\n",
              "      <th>10</th>\n",
              "      <td>0.023506</td>\n",
              "    </tr>\n",
              "    <tr>\n",
              "      <th>11</th>\n",
              "      <td>0.021063</td>\n",
              "    </tr>\n",
              "    <tr>\n",
              "      <th>12</th>\n",
              "      <td>0.056682</td>\n",
              "    </tr>\n",
              "    <tr>\n",
              "      <th>13</th>\n",
              "      <td>0.014049</td>\n",
              "    </tr>\n",
              "    <tr>\n",
              "      <th>14</th>\n",
              "      <td>0.049647</td>\n",
              "    </tr>\n",
              "    <tr>\n",
              "      <th>15</th>\n",
              "      <td>0.022115</td>\n",
              "    </tr>\n",
              "    <tr>\n",
              "      <th>16</th>\n",
              "      <td>0.046123</td>\n",
              "    </tr>\n",
              "    <tr>\n",
              "      <th>17</th>\n",
              "      <td>0.072796</td>\n",
              "    </tr>\n",
              "    <tr>\n",
              "      <th>18</th>\n",
              "      <td>0.012039</td>\n",
              "    </tr>\n",
              "    <tr>\n",
              "      <th>19</th>\n",
              "      <td>0.015382</td>\n",
              "    </tr>\n",
              "    <tr>\n",
              "      <th>20</th>\n",
              "      <td>0.061014</td>\n",
              "    </tr>\n",
              "    <tr>\n",
              "      <th rowspan=\"20\" valign=\"top\">Product_Category</th>\n",
              "      <th>1</th>\n",
              "      <td>0.255201</td>\n",
              "    </tr>\n",
              "    <tr>\n",
              "      <th>2</th>\n",
              "      <td>0.043384</td>\n",
              "    </tr>\n",
              "    <tr>\n",
              "      <th>3</th>\n",
              "      <td>0.036746</td>\n",
              "    </tr>\n",
              "    <tr>\n",
              "      <th>4</th>\n",
              "      <td>0.021366</td>\n",
              "    </tr>\n",
              "    <tr>\n",
              "      <th>5</th>\n",
              "      <td>0.274390</td>\n",
              "    </tr>\n",
              "    <tr>\n",
              "      <th>6</th>\n",
              "      <td>0.037206</td>\n",
              "    </tr>\n",
              "    <tr>\n",
              "      <th>7</th>\n",
              "      <td>0.006765</td>\n",
              "    </tr>\n",
              "    <tr>\n",
              "      <th>8</th>\n",
              "      <td>0.207111</td>\n",
              "    </tr>\n",
              "    <tr>\n",
              "      <th>9</th>\n",
              "      <td>0.000745</td>\n",
              "    </tr>\n",
              "    <tr>\n",
              "      <th>10</th>\n",
              "      <td>0.009317</td>\n",
              "    </tr>\n",
              "    <tr>\n",
              "      <th>11</th>\n",
              "      <td>0.044153</td>\n",
              "    </tr>\n",
              "    <tr>\n",
              "      <th>12</th>\n",
              "      <td>0.007175</td>\n",
              "    </tr>\n",
              "    <tr>\n",
              "      <th>13</th>\n",
              "      <td>0.010088</td>\n",
              "    </tr>\n",
              "    <tr>\n",
              "      <th>14</th>\n",
              "      <td>0.002769</td>\n",
              "    </tr>\n",
              "    <tr>\n",
              "      <th>15</th>\n",
              "      <td>0.011435</td>\n",
              "    </tr>\n",
              "    <tr>\n",
              "      <th>16</th>\n",
              "      <td>0.017867</td>\n",
              "    </tr>\n",
              "    <tr>\n",
              "      <th>17</th>\n",
              "      <td>0.001051</td>\n",
              "    </tr>\n",
              "    <tr>\n",
              "      <th>18</th>\n",
              "      <td>0.005681</td>\n",
              "    </tr>\n",
              "    <tr>\n",
              "      <th>19</th>\n",
              "      <td>0.002914</td>\n",
              "    </tr>\n",
              "    <tr>\n",
              "      <th>20</th>\n",
              "      <td>0.004636</td>\n",
              "    </tr>\n",
              "    <tr>\n",
              "      <th rowspan=\"5\" valign=\"top\">Stay_In_Current_City_Years</th>\n",
              "      <th>0</th>\n",
              "      <td>0.135252</td>\n",
              "    </tr>\n",
              "    <tr>\n",
              "      <th>1</th>\n",
              "      <td>0.352358</td>\n",
              "    </tr>\n",
              "    <tr>\n",
              "      <th>2</th>\n",
              "      <td>0.185137</td>\n",
              "    </tr>\n",
              "    <tr>\n",
              "      <th>3</th>\n",
              "      <td>0.173224</td>\n",
              "    </tr>\n",
              "    <tr>\n",
              "      <th>4+</th>\n",
              "      <td>0.154028</td>\n",
              "    </tr>\n",
              "  </tbody>\n",
              "</table>\n",
              "</div>\n",
              "    <div class=\"colab-df-buttons\">\n",
              "\n",
              "  <div class=\"colab-df-container\">\n",
              "    <button class=\"colab-df-convert\" onclick=\"convertToInteractive('df-dae81e73-7076-459b-aa71-1bd413e826d7')\"\n",
              "            title=\"Convert this dataframe to an interactive table.\"\n",
              "            style=\"display:none;\">\n",
              "\n",
              "  <svg xmlns=\"http://www.w3.org/2000/svg\" height=\"24px\" viewBox=\"0 -960 960 960\">\n",
              "    <path d=\"M120-120v-720h720v720H120Zm60-500h600v-160H180v160Zm220 220h160v-160H400v160Zm0 220h160v-160H400v160ZM180-400h160v-160H180v160Zm440 0h160v-160H620v160ZM180-180h160v-160H180v160Zm440 0h160v-160H620v160Z\"/>\n",
              "  </svg>\n",
              "    </button>\n",
              "\n",
              "  <style>\n",
              "    .colab-df-container {\n",
              "      display:flex;\n",
              "      gap: 12px;\n",
              "    }\n",
              "\n",
              "    .colab-df-convert {\n",
              "      background-color: #E8F0FE;\n",
              "      border: none;\n",
              "      border-radius: 50%;\n",
              "      cursor: pointer;\n",
              "      display: none;\n",
              "      fill: #1967D2;\n",
              "      height: 32px;\n",
              "      padding: 0 0 0 0;\n",
              "      width: 32px;\n",
              "    }\n",
              "\n",
              "    .colab-df-convert:hover {\n",
              "      background-color: #E2EBFA;\n",
              "      box-shadow: 0px 1px 2px rgba(60, 64, 67, 0.3), 0px 1px 3px 1px rgba(60, 64, 67, 0.15);\n",
              "      fill: #174EA6;\n",
              "    }\n",
              "\n",
              "    .colab-df-buttons div {\n",
              "      margin-bottom: 4px;\n",
              "    }\n",
              "\n",
              "    [theme=dark] .colab-df-convert {\n",
              "      background-color: #3B4455;\n",
              "      fill: #D2E3FC;\n",
              "    }\n",
              "\n",
              "    [theme=dark] .colab-df-convert:hover {\n",
              "      background-color: #434B5C;\n",
              "      box-shadow: 0px 1px 3px 1px rgba(0, 0, 0, 0.15);\n",
              "      filter: drop-shadow(0px 1px 2px rgba(0, 0, 0, 0.3));\n",
              "      fill: #FFFFFF;\n",
              "    }\n",
              "  </style>\n",
              "\n",
              "    <script>\n",
              "      const buttonEl =\n",
              "        document.querySelector('#df-dae81e73-7076-459b-aa71-1bd413e826d7 button.colab-df-convert');\n",
              "      buttonEl.style.display =\n",
              "        google.colab.kernel.accessAllowed ? 'block' : 'none';\n",
              "\n",
              "      async function convertToInteractive(key) {\n",
              "        const element = document.querySelector('#df-dae81e73-7076-459b-aa71-1bd413e826d7');\n",
              "        const dataTable =\n",
              "          await google.colab.kernel.invokeFunction('convertToInteractive',\n",
              "                                                    [key], {});\n",
              "        if (!dataTable) return;\n",
              "\n",
              "        const docLinkHtml = 'Like what you see? Visit the ' +\n",
              "          '<a target=\"_blank\" href=https://colab.research.google.com/notebooks/data_table.ipynb>data table notebook</a>'\n",
              "          + ' to learn more about interactive tables.';\n",
              "        element.innerHTML = '';\n",
              "        dataTable['output_type'] = 'display_data';\n",
              "        await google.colab.output.renderOutput(dataTable, element);\n",
              "        const docLink = document.createElement('div');\n",
              "        docLink.innerHTML = docLinkHtml;\n",
              "        element.appendChild(docLink);\n",
              "      }\n",
              "    </script>\n",
              "  </div>\n",
              "\n",
              "\n",
              "<div id=\"df-85161789-7fdd-41c7-9bdd-8b5a2769b386\">\n",
              "  <button class=\"colab-df-quickchart\" onclick=\"quickchart('df-85161789-7fdd-41c7-9bdd-8b5a2769b386')\"\n",
              "            title=\"Suggest charts.\"\n",
              "            style=\"display:none;\">\n",
              "\n",
              "<svg xmlns=\"http://www.w3.org/2000/svg\" height=\"24px\"viewBox=\"0 0 24 24\"\n",
              "     width=\"24px\">\n",
              "    <g>\n",
              "        <path d=\"M19 3H5c-1.1 0-2 .9-2 2v14c0 1.1.9 2 2 2h14c1.1 0 2-.9 2-2V5c0-1.1-.9-2-2-2zM9 17H7v-7h2v7zm4 0h-2V7h2v10zm4 0h-2v-4h2v4z\"/>\n",
              "    </g>\n",
              "</svg>\n",
              "  </button>\n",
              "\n",
              "<style>\n",
              "  .colab-df-quickchart {\n",
              "      --bg-color: #E8F0FE;\n",
              "      --fill-color: #1967D2;\n",
              "      --hover-bg-color: #E2EBFA;\n",
              "      --hover-fill-color: #174EA6;\n",
              "      --disabled-fill-color: #AAA;\n",
              "      --disabled-bg-color: #DDD;\n",
              "  }\n",
              "\n",
              "  [theme=dark] .colab-df-quickchart {\n",
              "      --bg-color: #3B4455;\n",
              "      --fill-color: #D2E3FC;\n",
              "      --hover-bg-color: #434B5C;\n",
              "      --hover-fill-color: #FFFFFF;\n",
              "      --disabled-bg-color: #3B4455;\n",
              "      --disabled-fill-color: #666;\n",
              "  }\n",
              "\n",
              "  .colab-df-quickchart {\n",
              "    background-color: var(--bg-color);\n",
              "    border: none;\n",
              "    border-radius: 50%;\n",
              "    cursor: pointer;\n",
              "    display: none;\n",
              "    fill: var(--fill-color);\n",
              "    height: 32px;\n",
              "    padding: 0;\n",
              "    width: 32px;\n",
              "  }\n",
              "\n",
              "  .colab-df-quickchart:hover {\n",
              "    background-color: var(--hover-bg-color);\n",
              "    box-shadow: 0 1px 2px rgba(60, 64, 67, 0.3), 0 1px 3px 1px rgba(60, 64, 67, 0.15);\n",
              "    fill: var(--button-hover-fill-color);\n",
              "  }\n",
              "\n",
              "  .colab-df-quickchart-complete:disabled,\n",
              "  .colab-df-quickchart-complete:disabled:hover {\n",
              "    background-color: var(--disabled-bg-color);\n",
              "    fill: var(--disabled-fill-color);\n",
              "    box-shadow: none;\n",
              "  }\n",
              "\n",
              "  .colab-df-spinner {\n",
              "    border: 2px solid var(--fill-color);\n",
              "    border-color: transparent;\n",
              "    border-bottom-color: var(--fill-color);\n",
              "    animation:\n",
              "      spin 1s steps(1) infinite;\n",
              "  }\n",
              "\n",
              "  @keyframes spin {\n",
              "    0% {\n",
              "      border-color: transparent;\n",
              "      border-bottom-color: var(--fill-color);\n",
              "      border-left-color: var(--fill-color);\n",
              "    }\n",
              "    20% {\n",
              "      border-color: transparent;\n",
              "      border-left-color: var(--fill-color);\n",
              "      border-top-color: var(--fill-color);\n",
              "    }\n",
              "    30% {\n",
              "      border-color: transparent;\n",
              "      border-left-color: var(--fill-color);\n",
              "      border-top-color: var(--fill-color);\n",
              "      border-right-color: var(--fill-color);\n",
              "    }\n",
              "    40% {\n",
              "      border-color: transparent;\n",
              "      border-right-color: var(--fill-color);\n",
              "      border-top-color: var(--fill-color);\n",
              "    }\n",
              "    60% {\n",
              "      border-color: transparent;\n",
              "      border-right-color: var(--fill-color);\n",
              "    }\n",
              "    80% {\n",
              "      border-color: transparent;\n",
              "      border-right-color: var(--fill-color);\n",
              "      border-bottom-color: var(--fill-color);\n",
              "    }\n",
              "    90% {\n",
              "      border-color: transparent;\n",
              "      border-bottom-color: var(--fill-color);\n",
              "    }\n",
              "  }\n",
              "</style>\n",
              "\n",
              "  <script>\n",
              "    async function quickchart(key) {\n",
              "      const quickchartButtonEl =\n",
              "        document.querySelector('#' + key + ' button');\n",
              "      quickchartButtonEl.disabled = true;  // To prevent multiple clicks.\n",
              "      quickchartButtonEl.classList.add('colab-df-spinner');\n",
              "      try {\n",
              "        const charts = await google.colab.kernel.invokeFunction(\n",
              "            'suggestCharts', [key], {});\n",
              "      } catch (error) {\n",
              "        console.error('Error during call to suggestCharts:', error);\n",
              "      }\n",
              "      quickchartButtonEl.classList.remove('colab-df-spinner');\n",
              "      quickchartButtonEl.classList.add('colab-df-quickchart-complete');\n",
              "    }\n",
              "    (() => {\n",
              "      let quickchartButtonEl =\n",
              "        document.querySelector('#df-85161789-7fdd-41c7-9bdd-8b5a2769b386 button');\n",
              "      quickchartButtonEl.style.display =\n",
              "        google.colab.kernel.accessAllowed ? 'block' : 'none';\n",
              "    })();\n",
              "  </script>\n",
              "</div>\n",
              "    </div>\n",
              "  </div>\n"
            ]
          },
          "metadata": {},
          "execution_count": 45
        }
      ]
    },
    {
      "cell_type": "markdown",
      "source": [
        "# **Observation Insight of Section 1.2**\n",
        "\n",
        "#Insights:-\n",
        "\n",
        "1. **Gender Distribution:** There are two genders: Male (M) and Female (F). 75% are Male and 25% are Female\n",
        "\n",
        "\n",
        "2. **Age Distribution:** Customers are categorized into 7 different age groups. They are 0-17,18-25, 26-35,36-45,46-50,51-55, 55+. The most common age group in the dataset is \"26-35.\"\n",
        "\n",
        "3. **Occupation Variety:** There are 21 different occupation codes, coded as 1 to 21. 4 is most common.\n",
        "\n",
        "4. **City Categories:** There are 3 cities \"A\", \"B\" and \"C\" with the percentage of 26%, 42%, 31% customers\n",
        "\n",
        "5. **Marital Status:** 60% are Unmarried and 40% are Married"
      ],
      "metadata": {
        "id": "Mp6mUe3_hv46"
      }
    },
    {
      "cell_type": "markdown",
      "source": [
        "#Section 1.3 Visual Analysis - Univariate & Bivariate\n",
        "\n",
        "#1.3.1Univariate"
      ],
      "metadata": {
        "id": "a6bMH6eUBM7I"
      }
    },
    {
      "cell_type": "code",
      "source": [
        "fig, axs = plt.subplots(nrows=2, ncols=3, figsize=(20, 8))\n",
        "sns.countplot(data=df, x=\"Age\", ax=axs[0,0])\n",
        "sns.countplot(data=df, x=\"Marital_Status\", ax=axs[0,1])\n",
        "sns.countplot(data=df, x=\"City_Category\", ax=axs[0,2])\n",
        "sns.countplot(data=df, x=\"Stay_In_Current_City_Years\", ax=axs[1,0])\n",
        "sns.countplot(data=df, x=\"Product_Category\", ax=axs[1,1])\n",
        "sns.countplot(data=df, x=\"Occupation\", ax=axs[1,2])"
      ],
      "metadata": {
        "colab": {
          "base_uri": "https://localhost:8080/",
          "height": 713
        },
        "id": "rW2nHDCiB4mC",
        "outputId": "4c6393d2-2dad-472e-df9d-88da0f1c32a2"
      },
      "execution_count": null,
      "outputs": [
        {
          "output_type": "execute_result",
          "data": {
            "text/plain": [
              "<Axes: xlabel='Occupation', ylabel='count'>"
            ]
          },
          "metadata": {},
          "execution_count": 10
        },
        {
          "output_type": "display_data",
          "data": {
            "text/plain": [
              "<Figure size 2000x800 with 6 Axes>"
            ],
            "image/png": "[encoded data removed]"
          },
          "metadata": {}
        }
      ]
    },
    {
      "cell_type": "markdown",
      "source": [
        "#Insight\n",
        "Age: 26-35 age range have the highest 40% customers.\n",
        "\n",
        "Marital Status- 60% are Unmarried and 40% are Married.\n",
        "\n",
        "City Category - 42% customers lives in \"B\" City.\n",
        "\n",
        "Stay in current city Years- 35% custimers stay in there city from 1 year.\n",
        "\n",
        "Product Category - 1,5,8 have the highest sales. Need to keep the stock all the time.\n",
        "\n",
        "Occupation- 4,0,7,1,17 are the top 5 occupation of our customer. We can give some offer to thse people."
      ],
      "metadata": {
        "id": "-7epqmKbkjRg"
      }
    },
    {
      "cell_type": "markdown",
      "source": [
        "#1.3.2. Bivariate"
      ],
      "metadata": {
        "id": "fno8vT2EBSWB"
      }
    },
    {
      "cell_type": "code",
      "source": [
        "fig, axs = plt.subplots(nrows=2, ncols=3, figsize=(20, 8))\n",
        "sns.boxplot(data=df, x=\"Age\", y=\"Purchase\",ax=axs[0,0])\n",
        "sns.boxplot(data=df, x=\"Marital_Status\", y=\"Purchase\", ax=axs[0,1])\n",
        "sns.boxplot(data=df, x=\"City_Category\",y=\"Purchase\", ax=axs[0,2])\n",
        "sns.boxplot(data=df, x=\"Stay_In_Current_City_Years\", y=\"Purchase\", ax=axs[1,0])\n",
        "sns.boxplot(data=df, x=\"Product_Category\", y=\"Purchase\", ax=axs[1,1])\n",
        "sns.boxplot(data=df, x=\"Occupation\", y=\"Purchase\", ax=axs[1,2])"
      ],
      "metadata": {
        "colab": {
          "base_uri": "https://localhost:8080/",
          "height": 713
        },
        "id": "AKgetouSMkbz",
        "outputId": "272f59e2-2448-45c8-9e21-2f12956253b2"
      },
      "execution_count": null,
      "outputs": [
        {
          "output_type": "execute_result",
          "data": {
            "text/plain": [
              "<Axes: xlabel='Occupation', ylabel='Purchase'>"
            ]
          },
          "metadata": {},
          "execution_count": 14
        },
        {
          "output_type": "display_data",
          "data": {
            "text/plain": [
              "<Figure size 2000x800 with 6 Axes>"
            ],
            "image/png": "[encoded data removed]"
          },
          "metadata": {}
        }
      ]
    },
    {
      "cell_type": "markdown",
      "source": [
        "#Insights\n",
        "\n",
        "Age - All age groups have similar average purchase amount capacity.\n",
        "\n",
        "Marrital Status- Both married and Unmarried person average spending amount is same.\n",
        "\n",
        "City- City \"C\" hamve the highest average purchase amount capacity among all the 3 cities.\n",
        "\n",
        "Stay in current city Year- all the catagory of this variable have same average purchade amount.\n",
        "\n",
        "Product Category- 1,6,7,9,10,14,15,16 these 8 products have the highest average purchase amount. We can focus to sell more products from these categories to increase the profit\n",
        "\n",
        "Occupation- All the occupation types have approx similar average purchase amount.\n",
        "\n"
      ],
      "metadata": {
        "id": "AZEKdj_FkfgB"
      }
    },
    {
      "cell_type": "markdown",
      "source": [
        "#Section 2 Missing Value & Outlier Detection (10 Points)"
      ],
      "metadata": {
        "id": "SEH49ZyyMXbb"
      }
    },
    {
      "cell_type": "code",
      "source": [
        "df.isnull().sum()"
      ],
      "metadata": {
        "colab": {
          "base_uri": "https://localhost:8080/"
        },
        "id": "ADvgEwWVM0Bd",
        "outputId": "bb310227-6ae5-463e-c96f-ef26aa5f5f59"
      },
      "execution_count": null,
      "outputs": [
        {
          "output_type": "execute_result",
          "data": {
            "text/plain": [
              "User_ID                       0\n",
              "Product_ID                    0\n",
              "Gender                        0\n",
              "Age                           0\n",
              "Occupation                    0\n",
              "City_Category                 0\n",
              "Stay_In_Current_City_Years    0\n",
              "Marital_Status                0\n",
              "Product_Category              0\n",
              "Purchase                      0\n",
              "dtype: int64"
            ]
          },
          "metadata": {},
          "execution_count": 56
        }
      ]
    },
    {
      "cell_type": "markdown",
      "source": [
        "# **Observation**\n",
        "There are no missing Values"
      ],
      "metadata": {
        "id": "10uGnzS2kqP5"
      }
    },
    {
      "cell_type": "code",
      "source": [
        "plt.figure(figsize=(10, 5))\n",
        "sns.boxplot(data = df, x= \"Purchase\" )"
      ],
      "metadata": {
        "colab": {
          "base_uri": "https://localhost:8080/",
          "height": 482
        },
        "id": "-cWQkdbANAiR",
        "outputId": "212f5c27-2dc2-4724-dac8-209819847b70"
      },
      "execution_count": null,
      "outputs": [
        {
          "output_type": "execute_result",
          "data": {
            "text/plain": [
              "<Axes: xlabel='Purchase'>"
            ]
          },
          "metadata": {},
          "execution_count": 58
        },
        {
          "output_type": "display_data",
          "data": {
            "text/plain": [
              "<Figure size 1000x500 with 1 Axes>"
            ],
            "image/png": "[encoded data removed]"
          },
          "metadata": {}
        }
      ]
    },
    {
      "cell_type": "markdown",
      "source": [
        "# Observation\n",
        "Outliers are present in the Purchase column. Following are the steps to treat the out lier."
      ],
      "metadata": {
        "id": "-2KJM-A4kzRb"
      }
    },
    {
      "cell_type": "code",
      "source": [
        "iqr = np.percentile(df[\"Purchase\"],75) - np.percentile(df[\"Purchase\"],25)\n",
        "upper_limit = np.percentile(df[\"Purchase\"],75) + (1.5*iqr)\n",
        "upper_limit"
      ],
      "metadata": {
        "colab": {
          "base_uri": "https://localhost:8080/"
        },
        "id": "Ip_5zky2uTGf",
        "outputId": "e322ce51-ca07-4d6a-b6d9-6a70faf9d620"
      },
      "execution_count": null,
      "outputs": [
        {
          "output_type": "execute_result",
          "data": {
            "text/plain": [
              "21400.5"
            ]
          },
          "metadata": {},
          "execution_count": 5
        }
      ]
    },
    {
      "cell_type": "markdown",
      "source": [
        "#List of High Spending Customer"
      ],
      "metadata": {
        "id": "EAjtnSObjbxo"
      }
    },
    {
      "cell_type": "code",
      "source": [
        "elite_customerlist = df[df[\"Purchase\"] > upper_limit]\n",
        "elite_customerlist[\"User_ID\"].nunique()"
      ],
      "metadata": {
        "colab": {
          "base_uri": "https://localhost:8080/"
        },
        "id": "OTqakiwq0v7s",
        "outputId": "9818c659-ed52-41bc-8bd2-67ac349474fe"
      },
      "execution_count": null,
      "outputs": [
        {
          "output_type": "execute_result",
          "data": {
            "text/plain": [
              "1487"
            ]
          },
          "metadata": {},
          "execution_count": 45
        }
      ]
    },
    {
      "cell_type": "markdown",
      "source": [
        "#Treating Outlier of Purchase"
      ],
      "metadata": {
        "id": "_OO2o0Jgo1iJ"
      }
    },
    {
      "cell_type": "code",
      "source": [
        "q1 = df['Purchase'].quantile(0.25)\n",
        "q3 = df['Purchase'].quantile(0.75)\n",
        "iqr = q3-q1\n",
        "upper_limit = q3 +(1.5*iqr)\n",
        "lower_limit = q1 -(1.5*iqr)\n",
        "\n",
        "def outlier_treat(x):\n",
        "  if x > upper_limit:\n",
        "    return upper_limit\n",
        "  if x < lower_limit:\n",
        "    return lower_limit\n",
        "  else:\n",
        "    return x\n",
        "\n",
        "df['Purchase'] = df[\"Purchase\"].apply(outlier_treat)"
      ],
      "metadata": {
        "id": "ig6eUEMKo1NE"
      },
      "execution_count": null,
      "outputs": []
    },
    {
      "cell_type": "code",
      "source": [
        "plt.figure(figsize=(10, 5))\n",
        "sns.boxplot(x = df[\"Purchase\"], data = df )"
      ],
      "metadata": {
        "colab": {
          "base_uri": "https://localhost:8080/",
          "height": 483
        },
        "id": "TJ3tqvtyvpq0",
        "outputId": "bfe224be-a254-474a-c7e8-a2d444302017"
      },
      "execution_count": null,
      "outputs": [
        {
          "output_type": "execute_result",
          "data": {
            "text/plain": [
              "<Axes: xlabel='Purchase'>"
            ]
          },
          "metadata": {},
          "execution_count": 6
        },
        {
          "output_type": "display_data",
          "data": {
            "text/plain": [
              "<Figure size 1000x500 with 1 Axes>"
            ],
            "image/png": "[encoded data removed]"
          },
          "metadata": {}
        }
      ]
    },
    {
      "cell_type": "markdown",
      "source": [
        "#Section 3 Business Insights based on Non- Graphical and Visual Analysis (10 Points)\n"
      ],
      "metadata": {
        "id": "OPmUBy3VNIY_"
      }
    },
    {
      "cell_type": "markdown",
      "source": [
        "#*Section 3.1 Comments on the range of attributes*\n",
        "\n",
        "\n",
        "\n",
        "1.   Customer Demographics available- Data contain the info of a customer's Gender, Marital Status, Age category , Occupation, the city they stay and from how long.\n",
        "2.   Product Details available- Data contains the Product id and Product Category.\n",
        "3. Order Details available. User id ans order amount is also available. One of the important data for analysis.\n"
      ],
      "metadata": {
        "id": "7iX3m1_V-QLg"
      }
    },
    {
      "cell_type": "code",
      "source": [
        "df_original.corr()"
      ],
      "metadata": {
        "colab": {
          "base_uri": "https://localhost:8080/",
          "height": 262
        },
        "id": "apktrq6Vzhbn",
        "outputId": "6a479da6-b781-4d17-b952-c8bbfdf6baa7"
      },
      "execution_count": null,
      "outputs": [
        {
          "output_type": "stream",
          "name": "stderr",
          "text": [
            "<ipython-input-9-56b99c519564>:1: FutureWarning: The default value of numeric_only in DataFrame.corr is deprecated. In a future version, it will default to False. Select only valid columns or specify the value of numeric_only to silence this warning.\n",
            "  df_original.corr()\n"
          ]
        },
        {
          "output_type": "execute_result",
          "data": {
            "text/plain": [
              "                   User_ID  Occupation  Marital_Status  Product_Category  \\\n",
              "User_ID           1.000000   -0.023971        0.020443          0.003825   \n",
              "Occupation       -0.023971    1.000000        0.024280         -0.007618   \n",
              "Marital_Status    0.020443    0.024280        1.000000          0.019888   \n",
              "Product_Category  0.003825   -0.007618        0.019888          1.000000   \n",
              "Purchase          0.004716    0.020833       -0.000463         -0.343703   \n",
              "\n",
              "                  Purchase  \n",
              "User_ID           0.004716  \n",
              "Occupation        0.020833  \n",
              "Marital_Status   -0.000463  \n",
              "Product_Category -0.343703  \n",
              "Purchase          1.000000  "
            ],
            "text/html": [
              "\n",
              "  <div id=\"df-3cccac45-7559-47ab-9ad1-df5a006f6b73\" class=\"colab-df-container\">\n",
              "    <div>\n",
              "<style scoped>\n",
              "    .dataframe tbody tr th:only-of-type {\n",
              "        vertical-align: middle;\n",
              "    }\n",
              "\n",
              "    .dataframe tbody tr th {\n",
              "        vertical-align: top;\n",
              "    }\n",
              "\n",
              "    .dataframe thead th {\n",
              "        text-align: right;\n",
              "    }\n",
              "</style>\n",
              "<table border=\"1\" class=\"dataframe\">\n",
              "  <thead>\n",
              "    <tr style=\"text-align: right;\">\n",
              "      <th></th>\n",
              "      <th>User_ID</th>\n",
              "      <th>Occupation</th>\n",
              "      <th>Marital_Status</th>\n",
              "      <th>Product_Category</th>\n",
              "      <th>Purchase</th>\n",
              "    </tr>\n",
              "  </thead>\n",
              "  <tbody>\n",
              "    <tr>\n",
              "      <th>User_ID</th>\n",
              "      <td>1.000000</td>\n",
              "      <td>-0.023971</td>\n",
              "      <td>0.020443</td>\n",
              "      <td>0.003825</td>\n",
              "      <td>0.004716</td>\n",
              "    </tr>\n",
              "    <tr>\n",
              "      <th>Occupation</th>\n",
              "      <td>-0.023971</td>\n",
              "      <td>1.000000</td>\n",
              "      <td>0.024280</td>\n",
              "      <td>-0.007618</td>\n",
              "      <td>0.020833</td>\n",
              "    </tr>\n",
              "    <tr>\n",
              "      <th>Marital_Status</th>\n",
              "      <td>0.020443</td>\n",
              "      <td>0.024280</td>\n",
              "      <td>1.000000</td>\n",
              "      <td>0.019888</td>\n",
              "      <td>-0.000463</td>\n",
              "    </tr>\n",
              "    <tr>\n",
              "      <th>Product_Category</th>\n",
              "      <td>0.003825</td>\n",
              "      <td>-0.007618</td>\n",
              "      <td>0.019888</td>\n",
              "      <td>1.000000</td>\n",
              "      <td>-0.343703</td>\n",
              "    </tr>\n",
              "    <tr>\n",
              "      <th>Purchase</th>\n",
              "      <td>0.004716</td>\n",
              "      <td>0.020833</td>\n",
              "      <td>-0.000463</td>\n",
              "      <td>-0.343703</td>\n",
              "      <td>1.000000</td>\n",
              "    </tr>\n",
              "  </tbody>\n",
              "</table>\n",
              "</div>\n",
              "    <div class=\"colab-df-buttons\">\n",
              "\n",
              "  <div class=\"colab-df-container\">\n",
              "    <button class=\"colab-df-convert\" onclick=\"convertToInteractive('df-3cccac45-7559-47ab-9ad1-df5a006f6b73')\"\n",
              "            title=\"Convert this dataframe to an interactive table.\"\n",
              "            style=\"display:none;\">\n",
              "\n",
              "  <svg xmlns=\"http://www.w3.org/2000/svg\" height=\"24px\" viewBox=\"0 -960 960 960\">\n",
              "    <path d=\"M120-120v-720h720v720H120Zm60-500h600v-160H180v160Zm220 220h160v-160H400v160Zm0 220h160v-160H400v160ZM180-400h160v-160H180v160Zm440 0h160v-160H620v160ZM180-180h160v-160H180v160Zm440 0h160v-160H620v160Z\"/>\n",
              "  </svg>\n",
              "    </button>\n",
              "\n",
              "  <style>\n",
              "    .colab-df-container {\n",
              "      display:flex;\n",
              "      gap: 12px;\n",
              "    }\n",
              "\n",
              "    .colab-df-convert {\n",
              "      background-color: #E8F0FE;\n",
              "      border: none;\n",
              "      border-radius: 50%;\n",
              "      cursor: pointer;\n",
              "      display: none;\n",
              "      fill: #1967D2;\n",
              "      height: 32px;\n",
              "      padding: 0 0 0 0;\n",
              "      width: 32px;\n",
              "    }\n",
              "\n",
              "    .colab-df-convert:hover {\n",
              "      background-color: #E2EBFA;\n",
              "      box-shadow: 0px 1px 2px rgba(60, 64, 67, 0.3), 0px 1px 3px 1px rgba(60, 64, 67, 0.15);\n",
              "      fill: #174EA6;\n",
              "    }\n",
              "\n",
              "    .colab-df-buttons div {\n",
              "      margin-bottom: 4px;\n",
              "    }\n",
              "\n",
              "    [theme=dark] .colab-df-convert {\n",
              "      background-color: #3B4455;\n",
              "      fill: #D2E3FC;\n",
              "    }\n",
              "\n",
              "    [theme=dark] .colab-df-convert:hover {\n",
              "      background-color: #434B5C;\n",
              "      box-shadow: 0px 1px 3px 1px rgba(0, 0, 0, 0.15);\n",
              "      filter: drop-shadow(0px 1px 2px rgba(0, 0, 0, 0.3));\n",
              "      fill: #FFFFFF;\n",
              "    }\n",
              "  </style>\n",
              "\n",
              "    <script>\n",
              "      const buttonEl =\n",
              "        document.querySelector('#df-3cccac45-7559-47ab-9ad1-df5a006f6b73 button.colab-df-convert');\n",
              "      buttonEl.style.display =\n",
              "        google.colab.kernel.accessAllowed ? 'block' : 'none';\n",
              "\n",
              "      async function convertToInteractive(key) {\n",
              "        const element = document.querySelector('#df-3cccac45-7559-47ab-9ad1-df5a006f6b73');\n",
              "        const dataTable =\n",
              "          await google.colab.kernel.invokeFunction('convertToInteractive',\n",
              "                                                    [key], {});\n",
              "        if (!dataTable) return;\n",
              "\n",
              "        const docLinkHtml = 'Like what you see? Visit the ' +\n",
              "          '<a target=\"_blank\" href=https://colab.research.google.com/notebooks/data_table.ipynb>data table notebook</a>'\n",
              "          + ' to learn more about interactive tables.';\n",
              "        element.innerHTML = '';\n",
              "        dataTable['output_type'] = 'display_data';\n",
              "        await google.colab.output.renderOutput(dataTable, element);\n",
              "        const docLink = document.createElement('div');\n",
              "        docLink.innerHTML = docLinkHtml;\n",
              "        element.appendChild(docLink);\n",
              "      }\n",
              "    </script>\n",
              "  </div>\n",
              "\n",
              "\n",
              "<div id=\"df-8cd9f33e-759c-432d-9a6e-3a3c2cd0a057\">\n",
              "  <button class=\"colab-df-quickchart\" onclick=\"quickchart('df-8cd9f33e-759c-432d-9a6e-3a3c2cd0a057')\"\n",
              "            title=\"Suggest charts.\"\n",
              "            style=\"display:none;\">\n",
              "\n",
              "<svg xmlns=\"http://www.w3.org/2000/svg\" height=\"24px\"viewBox=\"0 0 24 24\"\n",
              "     width=\"24px\">\n",
              "    <g>\n",
              "        <path d=\"M19 3H5c-1.1 0-2 .9-2 2v14c0 1.1.9 2 2 2h14c1.1 0 2-.9 2-2V5c0-1.1-.9-2-2-2zM9 17H7v-7h2v7zm4 0h-2V7h2v10zm4 0h-2v-4h2v4z\"/>\n",
              "    </g>\n",
              "</svg>\n",
              "  </button>\n",
              "\n",
              "<style>\n",
              "  .colab-df-quickchart {\n",
              "      --bg-color: #E8F0FE;\n",
              "      --fill-color: #1967D2;\n",
              "      --hover-bg-color: #E2EBFA;\n",
              "      --hover-fill-color: #174EA6;\n",
              "      --disabled-fill-color: #AAA;\n",
              "      --disabled-bg-color: #DDD;\n",
              "  }\n",
              "\n",
              "  [theme=dark] .colab-df-quickchart {\n",
              "      --bg-color: #3B4455;\n",
              "      --fill-color: #D2E3FC;\n",
              "      --hover-bg-color: #434B5C;\n",
              "      --hover-fill-color: #FFFFFF;\n",
              "      --disabled-bg-color: #3B4455;\n",
              "      --disabled-fill-color: #666;\n",
              "  }\n",
              "\n",
              "  .colab-df-quickchart {\n",
              "    background-color: var(--bg-color);\n",
              "    border: none;\n",
              "    border-radius: 50%;\n",
              "    cursor: pointer;\n",
              "    display: none;\n",
              "    fill: var(--fill-color);\n",
              "    height: 32px;\n",
              "    padding: 0;\n",
              "    width: 32px;\n",
              "  }\n",
              "\n",
              "  .colab-df-quickchart:hover {\n",
              "    background-color: var(--hover-bg-color);\n",
              "    box-shadow: 0 1px 2px rgba(60, 64, 67, 0.3), 0 1px 3px 1px rgba(60, 64, 67, 0.15);\n",
              "    fill: var(--button-hover-fill-color);\n",
              "  }\n",
              "\n",
              "  .colab-df-quickchart-complete:disabled,\n",
              "  .colab-df-quickchart-complete:disabled:hover {\n",
              "    background-color: var(--disabled-bg-color);\n",
              "    fill: var(--disabled-fill-color);\n",
              "    box-shadow: none;\n",
              "  }\n",
              "\n",
              "  .colab-df-spinner {\n",
              "    border: 2px solid var(--fill-color);\n",
              "    border-color: transparent;\n",
              "    border-bottom-color: var(--fill-color);\n",
              "    animation:\n",
              "      spin 1s steps(1) infinite;\n",
              "  }\n",
              "\n",
              "  @keyframes spin {\n",
              "    0% {\n",
              "      border-color: transparent;\n",
              "      border-bottom-color: var(--fill-color);\n",
              "      border-left-color: var(--fill-color);\n",
              "    }\n",
              "    20% {\n",
              "      border-color: transparent;\n",
              "      border-left-color: var(--fill-color);\n",
              "      border-top-color: var(--fill-color);\n",
              "    }\n",
              "    30% {\n",
              "      border-color: transparent;\n",
              "      border-left-color: var(--fill-color);\n",
              "      border-top-color: var(--fill-color);\n",
              "      border-right-color: var(--fill-color);\n",
              "    }\n",
              "    40% {\n",
              "      border-color: transparent;\n",
              "      border-right-color: var(--fill-color);\n",
              "      border-top-color: var(--fill-color);\n",
              "    }\n",
              "    60% {\n",
              "      border-color: transparent;\n",
              "      border-right-color: var(--fill-color);\n",
              "    }\n",
              "    80% {\n",
              "      border-color: transparent;\n",
              "      border-right-color: var(--fill-color);\n",
              "      border-bottom-color: var(--fill-color);\n",
              "    }\n",
              "    90% {\n",
              "      border-color: transparent;\n",
              "      border-bottom-color: var(--fill-color);\n",
              "    }\n",
              "  }\n",
              "</style>\n",
              "\n",
              "  <script>\n",
              "    async function quickchart(key) {\n",
              "      const quickchartButtonEl =\n",
              "        document.querySelector('#' + key + ' button');\n",
              "      quickchartButtonEl.disabled = true;  // To prevent multiple clicks.\n",
              "      quickchartButtonEl.classList.add('colab-df-spinner');\n",
              "      try {\n",
              "        const charts = await google.colab.kernel.invokeFunction(\n",
              "            'suggestCharts', [key], {});\n",
              "      } catch (error) {\n",
              "        console.error('Error during call to suggestCharts:', error);\n",
              "      }\n",
              "      quickchartButtonEl.classList.remove('colab-df-spinner');\n",
              "      quickchartButtonEl.classList.add('colab-df-quickchart-complete');\n",
              "    }\n",
              "    (() => {\n",
              "      let quickchartButtonEl =\n",
              "        document.querySelector('#df-8cd9f33e-759c-432d-9a6e-3a3c2cd0a057 button');\n",
              "      quickchartButtonEl.style.display =\n",
              "        google.colab.kernel.accessAllowed ? 'block' : 'none';\n",
              "    })();\n",
              "  </script>\n",
              "</div>\n",
              "    </div>\n",
              "  </div>\n"
            ]
          },
          "metadata": {},
          "execution_count": 9
        }
      ]
    },
    {
      "cell_type": "markdown",
      "source": [
        "#*Section 3.2 Comments on the distribution of the variables and relationship between them*\n",
        "# 1. Distribution Insight\n",
        "\n",
        "\n",
        "---\n",
        "\n",
        "\n",
        "* **Unique Users:** There are 5,891 unique User_IDs in 5.5 Lakh records of datase.\n",
        "\n",
        "* **Unique Products:** There are 3,631 unique Product_IDs in the dataset.\n",
        "\n",
        "* **Gender Distribution:** There are two genders: Male (M) and Female (F). 75% of the Dataset are (M) male customers and 25% are (F) female.\n",
        "\n",
        "* **Age Distribution:** Customers are categorized into 7 different age groups. they are 0-17, 18-25, 26-35, 36-45, 46-50, 51-55 and 55+. Most of the customers belongs from the Age group of \"26-35\" that is 40% of total customers.\n",
        "The second and third highest age group is 35-35 with 20% and 18=25 with 18% respectively\n",
        "\n",
        "* **Occupation Variety:** There are 21 different occupation codes, suggesting a diverse customer base with varying occupations. Occupation code 4,0 and 7 have the highest customer percentage of 13%, 12% and 10%.\n",
        "\n",
        "* **City Categories:** Customers are categorized by their city of residence into three categories: A, B, and C. The most common category is \"B.\" which is 42%. C is 31%.\n",
        "\n",
        "* **Stay Duration:** Customers are categorized based on how long they have stayed in their current city. The most common category is \"1 year.\" that is 35%.\n",
        "\n",
        "* **Marital Status:** The dataset includes information on marital status, with two categories: 0 (Not married) and 1 (Married). The most common status is \"Not married.\" which is 60%. 40% are married.\n",
        "\n",
        "* **Product Categories:** There are 20 different product categories in the dataset. The most frequently occurring product category is 5,1 and 8 with 27%, 25% and 20%.\n",
        "\n",
        "* **Purchase Amount:** 75% customers have the billing amount leass than 12054. The mean purchase amount id 8047. Min and max are 12 and 23K.\n",
        "\n",
        "# 2. Relationship Insight\n",
        "\n",
        "\n",
        "---\n",
        "\n",
        "\n",
        "There is no relationship between any variables in the Dataset.\n"
      ],
      "metadata": {
        "id": "RFcouY_U-bmv"
      }
    },
    {
      "cell_type": "markdown",
      "source": [
        "# *Section 3.3 Comments for each univariate and bivariate plot*\n",
        "** Mentioned Below the every Univariate and Bivariate plots**"
      ],
      "metadata": {
        "id": "03u2KCxs-no_"
      }
    },
    {
      "cell_type": "markdown",
      "source": [
        "# Section 4 Answering questions (50 Points)\n",
        "\n"
      ],
      "metadata": {
        "id": "GHfShFLY_pTC"
      }
    },
    {
      "cell_type": "markdown",
      "source": [
        "\n",
        "\n",
        "---\n",
        "\n",
        "\n",
        "\n",
        "---\n",
        "#**Population Mean and Population Standard Deviation of Male and Female**\n",
        "\n",
        "\n",
        "---\n",
        "\n",
        "\n",
        "\n",
        "---\n",
        "\n",
        "\n",
        "\n"
      ],
      "metadata": {
        "id": "Wu-FWPkrSUpY"
      }
    },
    {
      "cell_type": "code",
      "source": [
        "# Male data segrigation and Finding there mean and standard deviation\n",
        "\n",
        "male_data = df[df['Gender']==\"M\"]\n",
        "population_mean_male = male_data['Purchase'].mean()\n",
        "population_sd_male = male_data['Purchase'].std()\n",
        "print(\"Males Purchase Amount Mean:\",population_mean_male)\n",
        "print(\"Males Purchase Amount SD:\",population_sd_male)\n",
        "# Female data segrigation and Finding there mean and standard deviation\n",
        "print(\"\\n\")\n",
        "female_data = df[df['Gender']==\"F\"]\n",
        "population_mean_female = female_data['Purchase'].mean()\n",
        "population_sd_female = female_data['Purchase'].std()\n",
        "print(\"Females Purchase Amount Mean:\", population_mean_female)\n",
        "print(\"Males Purchase Amount SD:\",population_sd_female)"
      ],
      "metadata": {
        "colab": {
          "base_uri": "https://localhost:8080/"
        },
        "id": "F-Ur2cYdlvam",
        "outputId": "6f44126d-6512-46e6-943c-22214bc598ed"
      },
      "execution_count": null,
      "outputs": [
        {
          "output_type": "stream",
          "name": "stdout",
          "text": [
            "Males Purchase Amount Mean: 9428.373454771048\n",
            "Males Purchase Amount SD: 5068.732811371384\n",
            "\n",
            "\n",
            "Females Purchase Amount Mean: 8726.256326900279\n",
            "Males Purchase Amount SD: 4743.242715572598\n"
          ]
        }
      ]
    },
    {
      "cell_type": "markdown",
      "source": [
        "# Sample from Population"
      ],
      "metadata": {
        "id": "SJoaF2JY4Dzr"
      }
    },
    {
      "cell_type": "markdown",
      "source": [
        "---------------------------------------------------------------------\n",
        "---------------------------------------------------------------------\n",
        "#Checking 50K sample means for 1000 time\n",
        "---------------------------------------------------------------------\n",
        "---------------------------------------------------------------------"
      ],
      "metadata": {
        "id": "jiUZHRDDZpXE"
      }
    },
    {
      "cell_type": "code",
      "source": [
        "# for male\n",
        "\n",
        "sample_mean_50K_M = [np.mean(male_data[\"Purchase\"].sample(50000)) for i in range(1000)]\n",
        "print( \"Male Sample mean:\" , np.mean(sample_mean_50K_M))\n",
        "\n",
        "# For Femalle\n",
        "sample_mean_50K_F = [np.mean(female_data[\"Purchase\"].sample(50000)) for i in range(1000)]\n",
        "print( \"Female Sample mean:\" , np.mean(sample_mean_50K_F))"
      ],
      "metadata": {
        "colab": {
          "base_uri": "https://localhost:8080/"
        },
        "id": "_JhhSg_m67Nr",
        "outputId": "0e4f6ab1-93aa-4926-b92d-93dc127a15dc"
      },
      "execution_count": null,
      "outputs": [
        {
          "output_type": "stream",
          "name": "stdout",
          "text": [
            "Male Sample mean: 9437.953316280002\n",
            "Female Sample mean: 8735.44386162\n"
          ]
        }
      ]
    },
    {
      "cell_type": "markdown",
      "source": [
        "\n",
        "#Plotting Graph of male and Female  to Check Overlapping"
      ],
      "metadata": {
        "id": "MgiD8786WZBR"
      }
    },
    {
      "cell_type": "code",
      "source": [
        "plt.figure(figsize=(10, 6))\n",
        "sns.kdeplot(sample_mean_50K_M)\n",
        "sns.kdeplot(sample_mean_50K_F)\n",
        "plt.show()"
      ],
      "metadata": {
        "colab": {
          "base_uri": "https://localhost:8080/",
          "height": 527
        },
        "id": "cpQ_wQaWWYqS",
        "outputId": "85534c4c-bdc3-4656-b87b-e876cc6f0ca4"
      },
      "execution_count": null,
      "outputs": [
        {
          "output_type": "display_data",
          "data": {
            "text/plain": [
              "<Figure size 1000x600 with 1 Axes>"
            ],
            "image/png": "[encoded data removed]"
          },
          "metadata": {}
        }
      ]
    },
    {
      "cell_type": "markdown",
      "source": [
        "*Graphs are too far away and too sharp because of high sampalings*"
      ],
      "metadata": {
        "id": "cX8fxDSORJKY"
      }
    },
    {
      "cell_type": "markdown",
      "source": [
        "----------------------------------------------\n",
        "-----------------------------------------------\n",
        "#Taking Mean of 3500 samples for 1000 time\n",
        "-------------------------------------\n",
        "---------------------------------------"
      ],
      "metadata": {
        "id": "i0838iYAIR6i"
      }
    },
    {
      "cell_type": "code",
      "source": [
        "sample_mean_3_5k_M= [np.mean(male_data[\"Purchase\"].sample(3500)) for i in range(1000)]\n",
        "print(np.mean(sample_mean_3_5k_M))\n",
        "\n",
        "sample_mean_3_5k_F= [np.mean(female_data[\"Purchase\"].sample(3500)) for i in range(1000)]\n",
        "print(np.mean(sample_mean_3_5k_F))"
      ],
      "metadata": {
        "id": "dJJbgDrr7l6s",
        "colab": {
          "base_uri": "https://localhost:8080/"
        },
        "outputId": "208f5f83-dcb3-4c06-aae0-f45d734b83a9"
      },
      "execution_count": null,
      "outputs": [
        {
          "output_type": "stream",
          "name": "stdout",
          "text": [
            "9430.384042142858\n",
            "8724.723053285714\n"
          ]
        }
      ]
    },
    {
      "cell_type": "markdown",
      "source": [
        "#Ploting Kdetplot for 1000 Means of 3.5K Sampaling"
      ],
      "metadata": {
        "id": "7pzbLA3vajwn"
      }
    },
    {
      "cell_type": "code",
      "source": [
        "plt.figure(figsize=(10, 6))\n",
        "sns.kdeplot(sample_mean_3_5k_M)\n",
        "sns.kdeplot(sample_mean_3_5k_F)\n",
        "plt.show()"
      ],
      "metadata": {
        "colab": {
          "base_uri": "https://localhost:8080/",
          "height": 522
        },
        "id": "O0D5wd6faipH",
        "outputId": "91a28e37-9baf-440e-8b69-449ceda1a523"
      },
      "execution_count": null,
      "outputs": [
        {
          "output_type": "display_data",
          "data": {
            "text/plain": [
              "<Figure size 1000x600 with 1 Axes>"
            ],
            "image/png": "[encoded data removed]"
          },
          "metadata": {}
        }
      ]
    },
    {
      "cell_type": "markdown",
      "source": [
        "*We can see that the graphs are not overlapping. Now we can find the 95% or 99% confidence interval of Male and Female Purchase amount*\n",
        "--------------------------------------------------------------------------------"
      ],
      "metadata": {
        "id": "skOvOpc3JMYJ"
      }
    },
    {
      "cell_type": "markdown",
      "source": [
        "#Values of 90% confidence interval of Gender"
      ],
      "metadata": {
        "id": "c4mWgyCw6ufe"
      }
    },
    {
      "cell_type": "code",
      "source": [
        "# Calculation For Male\n",
        "mean_3_5K = np.mean(sample_mean_3_5k_M)\n",
        "standard_error= population_sd_male/(3500**0.5)\n",
        "z1 = norm.ppf(0.05)\n",
        "z2 = 1 - norm.ppf(0.05)\n",
        "x1 = mean_3_5K +(z1 * standard_error)\n",
        "x2 = mean_3_5K +(z2 * standard_error)\n",
        "print(\"Male 90% confidence interval values\")\n",
        "print(\"x1:\", x1)\n",
        "print(\"x2:\", x2)\n",
        "print(\"standard_error:\", standard_error)\n",
        "print('We can say by 90% confidence that the mean amount a men can spend in walmart is between', x1, \"to\", x2)\n",
        "print(\"\\n\")\n",
        "\n",
        "\n",
        "# Calculation for Female\n",
        "\n",
        "mean_3_5K = np.mean(sample_mean_3_5k_F)\n",
        "standard_error = population_sd_female/(3500**0.5)\n",
        "z1 = norm.ppf(0.05)\n",
        "z2 = 1 - norm.ppf(0.05)\n",
        "x1 = mean_3_5K +(z1 * standard_error)\n",
        "x2 = mean_3_5K +(z2 * standard_error)\n",
        "print(\"Female 95% confidence interval values\")\n",
        "print(\"x1:\", x1)\n",
        "print(\"x2:\", x2)\n",
        "print(\"standard_error:\", standard_error)\n",
        "print('We can say by 90% confidence that the mean amount a women can spend in walmart is between', x1, \"to\", x2)"
      ],
      "metadata": {
        "colab": {
          "base_uri": "https://localhost:8080/"
        },
        "id": "f_suzh2A6zwQ",
        "outputId": "71c7fc6c-9057-4500-c2c4-95e3699aa158"
      },
      "execution_count": null,
      "outputs": [
        {
          "output_type": "stream",
          "name": "stdout",
          "text": [
            "Male 90% confidence interval values\n",
            "x1: 9289.457552735983\n",
            "x2: 9656.987753581983\n",
            "standard_error: 80.17543524552448\n",
            "We can say by 90% confidence that the mean amount a men can spend in walmart is between 9289.457552735983 to 9656.987753581983\n",
            "\n",
            "\n",
            "Female 95% confidence interval values\n",
            "x1: 8592.8461978297\n",
            "x2: 8936.775343987252\n",
            "standard_error: 80.17543524552448\n",
            "We can say by 90% confidence that the mean amount a women can spend in walmart is between 8592.8461978297 to 8936.775343987252\n"
          ]
        }
      ]
    },
    {
      "cell_type": "markdown",
      "source": [
        "#Values of 95% confidence interval of Gender"
      ],
      "metadata": {
        "id": "gpbG-E6f1UCc"
      }
    },
    {
      "cell_type": "code",
      "source": [
        "# Calculation For Male\n",
        "mean_3_5K = np.mean(sample_mean_3_5k_M)\n",
        "standard_error= population_sd_male/(3500**0.5)\n",
        "z1 = norm.ppf(0.025)\n",
        "z2 = 1 - norm.ppf(0.025)\n",
        "x1 = mean_3_5K +(z1 * standard_error)\n",
        "x2 = mean_3_5K +(z2 * standard_error)\n",
        "print(\"Male 95% confidence interval values\")\n",
        "print(\"x1:\", x1)\n",
        "print(\"x2:\", x2)\n",
        "print(\"standard_error:\", standard_error)\n",
        "print('We can say by 95% confidence that the mean amount a men can spend in walmart is between', x1, \"to\", x2)\n",
        "print(\"\\n\")\n",
        "\n",
        "\n",
        "# Calculation for Female\n",
        "\n",
        "mean_3_5K = np.mean(sample_mean_3_5k_F)\n",
        "standard_error = population_sd_female/(3500**0.5)\n",
        "z1 = norm.ppf(0.025)\n",
        "z2 = 1 - norm.ppf(0.025)\n",
        "x1 = mean_3_5K +(z1 * standard_error)\n",
        "x2 = mean_3_5K +(z2 * standard_error)\n",
        "print(\"Female 95% confidence interval values\")\n",
        "print(\"x1:\", x1)\n",
        "print(\"x2:\", x2)\n",
        "print(\"standard_error:\", standard_error)\n",
        "print('We can say by 95% confidence that the mean amount a women can spend in walmart is between', x1, \"to\", x2)"
      ],
      "metadata": {
        "colab": {
          "base_uri": "https://localhost:8080/"
        },
        "id": "oMqh0oub1ap8",
        "outputId": "4e0bf146-1fa3-49d4-8540-af29502b8f45"
      },
      "execution_count": null,
      "outputs": [
        {
          "output_type": "stream",
          "name": "stdout",
          "text": [
            "Male 95% confidence interval values\n",
            "x1: 9262.459772664204\n",
            "x2: 9683.985533653762\n",
            "standard_error: 85.67722203225121\n",
            "We can say by 95% confidence that the mean amount a men can spend in walmart is between 9262.459772664204 to 9683.985533653762\n",
            "\n",
            "\n",
            "Female 95% confidence interval values\n",
            "x1: 8567.582087759663\n",
            "x2: 8962.039454057289\n",
            "standard_error: 80.17543524552448\n",
            "We can say by 95% confidence that the mean amount a women can spend in walmart is between 8567.582087759663 to 8962.039454057289\n"
          ]
        }
      ]
    },
    {
      "cell_type": "markdown",
      "source": [
        "#Values of 99% confidence interval of Gender"
      ],
      "metadata": {
        "id": "IMQDMT7pHPsQ"
      }
    },
    {
      "cell_type": "code",
      "source": [
        "# Calculation For Male\n",
        "mean_3_5K = np.mean(sample_mean_3_5k_M)\n",
        "standard_error= population_sd_male/(3500**0.5)\n",
        "z1 = norm.ppf(0.005)\n",
        "z2 = 1 - norm.ppf(0.005)\n",
        "x1 = mean_3_5K +(z1 * standard_error)\n",
        "x2 = mean_3_5K +(z2 * standard_error)\n",
        "print(\"Male 99% confidence interval values\")\n",
        "print(\"x1:\", x1)\n",
        "print(\"x2:\", x2)\n",
        "print(\"standard_error:\", standard_error)\n",
        "print('We can say by 99% confidence that the mean amount a men can spend in walmart is between', x1, \"to\", x2)\n",
        "print(\"\\n\")\n",
        "\n",
        "\n",
        "# Calculation for Female\n",
        "\n",
        "mean_3_5K = np.mean(sample_mean_3_5k_F)\n",
        "standard_error = population_sd_female/(3500**0.5)\n",
        "z1 = norm.ppf(0.01)\n",
        "z2 = 1 - norm.ppf(0.01)\n",
        "x1 = mean_3_5K +(z1 * standard_error)\n",
        "x2 = mean_3_5K +(z2 * standard_error)\n",
        "print(\"Female 99% confidence interval values\")\n",
        "print(\"x1:\", x1)\n",
        "print(\"x2:\", x2)\n",
        "print(\"standard_error:\", standard_error)\n",
        "print('We can say by 99% confidence that the mean amount a women can spend in walmart is between', x1, \"to\", x2)"
      ],
      "metadata": {
        "colab": {
          "base_uri": "https://localhost:8080/"
        },
        "id": "IppZUWDOHXSE",
        "outputId": "56550a62-401c-470f-d516-f4bb37cf6682"
      },
      "execution_count": null,
      "outputs": [
        {
          "output_type": "stream",
          "name": "stdout",
          "text": [
            "Male 99% confidence interval values\n",
            "x1: 9209.69414298552\n",
            "x2: 9736.751163332447\n",
            "standard_error: 85.67722203225121\n",
            "We can say by 99% confidence that the mean amount a men can spend in walmart is between 9209.69414298552 to 9736.751163332447\n",
            "\n",
            "\n",
            "Female 99% confidence interval values\n",
            "x1: 8538.20709995199\n",
            "x2: 8991.414441864963\n",
            "standard_error: 80.17543524552448\n",
            "We can say by 99% confidence that the mean amount a women can spend in walmart is between 8538.20709995199 to 8991.414441864963\n"
          ]
        }
      ]
    },
    {
      "cell_type": "markdown",
      "source": [
        "#Section 4.1 Are women spending more money per transaction than men? Why or Why not? (10 Points)\n",
        "\n",
        "**No, women are not spending more Money then men.**\n",
        "\n",
        "We can say this because when we calculated the Central Limt mean it was 9430.38 for male with standrad error of 85.67 and 8724.72 for female with standard error of 80.17"
      ],
      "metadata": {
        "id": "q4gHshX_2ATn"
      }
    },
    {
      "cell_type": "markdown",
      "source": [
        "#Section 4.2 Confidence intervals and distribution of the mean of the expenses by female and male customers (10 Points)\n",
        "Instructions to be followed:-\n",
        "\n",
        "Use the Central limit theorem to compute the interval. Change the sample size to observe the distribution of the mean of the expenses by female and male customers.\n",
        "The interval that you calculated is called Confidence Interval. The width of the interval is mostly decided by the business: Typically 90%, 95%, or 99%. Play around with the width parameter and report the observations.\n",
        "\n",
        "\n",
        "Answer\n",
        "\n",
        "\n",
        "So when we calculated the the range of mean spend with 90% confidence interval it is 9289.45 to 9656.98 for male and 8592.84 to 8936.77 for female.\n",
        "\n",
        "\n",
        "So when we calculated the the range of mean spend with 95% confidence interval it is 9262.46 to 9683.98 for male and  8567.58 to 8962.03 for female.\n",
        "\n",
        "\n",
        "So when we calculated the the range of mean spend with 99% confidence interval it is 9209.69 to 9736.75 for male and 8538.20 to 8991.41 for female."
      ],
      "metadata": {
        "id": "yWi8Zvpb2M5R"
      }
    },
    {
      "cell_type": "markdown",
      "source": [
        "#Section 4.3 Are confidence intervals of average male and female spending overlapping? How can Walmart leverage this conclusion to make changes or improvements? (10 Points)\n",
        "\n",
        "\n",
        "No, with 99% of confidence interval also, the average spending of male and female is not overlapping.\n",
        "\n",
        "walmart can leverage this by the following changes and improvements.\n",
        "\n",
        "* **Gender-Specific Marketing Campaigns:**Create tailored marketing campaigns that resonate with each gender's preferences and interests. This includes using gender-specific messaging, imagery, and advertising channels.\n",
        "\n",
        "* **Pricing Strategies:** Fine-tune pricing strategies based on gender preferences. Consider introducing pricing tiers, discounts, or bundled offers that are more appealing to one gender over the other.\n",
        "\n",
        "* **Market Expansion:** Consider expanding into new markets or demographics that align with the higher-spending gender group.\n",
        "\n"
      ],
      "metadata": {
        "id": "yJvgwPksR7M4"
      }
    },
    {
      "cell_type": "markdown",
      "source": [
        "\n",
        "\n",
        "---\n",
        "\n",
        "\n",
        "\n",
        "---\n",
        "\n",
        "\n",
        "# **Section 4.4 Results when the same activity is performed for Married vs Unmarried (10 Points)**\n",
        "\n",
        "\n",
        "---\n",
        "\n",
        "\n",
        "\n",
        "---\n",
        "\n"
      ],
      "metadata": {
        "id": "RkvExDGJSlUY"
      }
    },
    {
      "cell_type": "code",
      "source": [
        "married_data = df[df['Marital_Status']==1]\n",
        "population_mean_married = married_data['Purchase'].mean()\n",
        "population_sd_married = married_data['Purchase'].std()\n",
        "print(\"Married Purchase Amount Mean:\",population_mean_married)\n",
        "print(\"Married Purchase Amount SD:\",population_sd_married)\n",
        "# Female data segrigation and Finding there mean and standard deviation\n",
        "print(\"\\n\")\n",
        "unmarried_data = df[df['Marital_Status']==0]\n",
        "population_mean_unmarried = unmarried_data['Purchase'].mean()\n",
        "population_sd_unmarried = unmarried_data['Purchase'].std()\n",
        "print(\"Unmarried Purchase Amount Mean:\", population_mean_unmarried)\n",
        "print(\"Unmarried Purchase Amount SD:\",population_sd_unmarried)"
      ],
      "metadata": {
        "colab": {
          "base_uri": "https://localhost:8080/"
        },
        "id": "hKhi6_klyhki",
        "outputId": "e596757e-7263-4ad8-d367-5754f7352120"
      },
      "execution_count": null,
      "outputs": [
        {
          "output_type": "stream",
          "name": "stdout",
          "text": [
            "Married Purchase Amount Mean: 9251.430701571424\n",
            "Married Purchase Amount SD: 4991.196933307116\n",
            "\n",
            "\n",
            "Unmarried Purchase Amount Mean: 9257.517959480308\n",
            "Unmarried Purchase Amount SD: 5005.287278481116\n"
          ]
        }
      ]
    },
    {
      "cell_type": "markdown",
      "source": [
        "#**Married and Unmarried CLTs and CIs**"
      ],
      "metadata": {
        "id": "DOvcH61Mk0yM"
      }
    },
    {
      "cell_type": "code",
      "source": [
        "# for male\n",
        "\n",
        "sample_mean_50K_1 = [np.mean(married_data[\"Purchase\"].sample(50000)) for i in range(1000)]\n",
        "print( \"Married Sample mean:\" , np.mean(sample_mean_50K_1))\n",
        "\n",
        "# For Femalle\n",
        "sample_mean_50K_0 = [np.mean(unmarried_data[\"Purchase\"].sample(50000)) for i in range(1000)]\n",
        "print( \"Unmarried Sample mean:\" , np.mean(sample_mean_50K_0))"
      ],
      "metadata": {
        "colab": {
          "base_uri": "https://localhost:8080/"
        },
        "id": "783VSrgb2fM1",
        "outputId": "fcce5152-f9a8-4c09-ff72-970f6f546ab2"
      },
      "execution_count": null,
      "outputs": [
        {
          "output_type": "stream",
          "name": "stdout",
          "text": [
            "Married Sample mean: 9250.56996469\n",
            "Unmarried Sample mean: 9257.127020949998\n"
          ]
        }
      ]
    },
    {
      "cell_type": "code",
      "source": [
        "plt.figure(figsize=(10, 6))\n",
        "sns.kdeplot(sample_mean_50K_1)\n",
        "sns.kdeplot(sample_mean_50K_0)\n",
        "plt.show()"
      ],
      "metadata": {
        "colab": {
          "base_uri": "https://localhost:8080/",
          "height": 522
        },
        "id": "34C18UYhmy1s",
        "outputId": "d69c8e2d-7108-44e6-b9d6-e1b8807558ca"
      },
      "execution_count": null,
      "outputs": [
        {
          "output_type": "display_data",
          "data": {
            "text/plain": [
              "<Figure size 1000x600 with 1 Axes>"
            ],
            "image/png": "[encoded data removed]"
          },
          "metadata": {}
        }
      ]
    },
    {
      "cell_type": "markdown",
      "source": [
        "#3500 samplings with 1200 means"
      ],
      "metadata": {
        "id": "EUMHS4r3nCrS"
      }
    },
    {
      "cell_type": "code",
      "source": [
        "# for male\n",
        "\n",
        "sample_mean_35K_1 = [np.mean(married_data[\"Purchase\"].sample(3500)) for i in range(1200)]\n",
        "print( \"Married Sample mean:\" , np.mean(sample_mean_35K_1))\n",
        "\n",
        "# For Femalle\n",
        "sample_mean_35K_0 = [np.mean(unmarried_data[\"Purchase\"].sample(3500)) for i in range(1200)]\n",
        "print( \"Unmarried Sample mean:\" , np.mean(sample_mean_35K_0))"
      ],
      "metadata": {
        "colab": {
          "base_uri": "https://localhost:8080/"
        },
        "id": "pv1q5JH_nCR6",
        "outputId": "a5095d6f-318e-4f2f-80d3-e13bf7c5ee49"
      },
      "execution_count": null,
      "outputs": [
        {
          "output_type": "stream",
          "name": "stdout",
          "text": [
            "Married Sample mean: 9250.297405238096\n",
            "Unmarried Sample mean: 9259.313552619047\n"
          ]
        }
      ]
    },
    {
      "cell_type": "code",
      "source": [
        "plt.figure(figsize=(10, 6))\n",
        "sns.kdeplot(sample_mean_35K_1)\n",
        "sns.kdeplot(sample_mean_35K_0)\n",
        "plt.show()"
      ],
      "metadata": {
        "colab": {
          "base_uri": "https://localhost:8080/",
          "height": 522
        },
        "id": "RZDIKQHGnqLT",
        "outputId": "530d6d02-ffad-4a5d-d1b0-ce4627325ea3"
      },
      "execution_count": null,
      "outputs": [
        {
          "output_type": "display_data",
          "data": {
            "text/plain": [
              "<Figure size 1000x600 with 1 Axes>"
            ],
            "image/png": "[encoded data removed]"
          },
          "metadata": {}
        }
      ]
    },
    {
      "cell_type": "markdown",
      "source": [
        "#90% confidence interval of Marrital Status"
      ],
      "metadata": {
        "id": "IJbKR3gQnHos"
      }
    },
    {
      "cell_type": "code",
      "source": [
        "# Calculation For Male\n",
        "mean_35K_married = np.mean(sample_mean_35K_1)\n",
        "standard_error= population_sd_married/(3500**0.5)\n",
        "z1 = norm.ppf(0.05)\n",
        "z2 = 1 - norm.ppf(0.05)\n",
        "x1 = mean_35K_married +(z1 * standard_error)\n",
        "x2 = mean_35K_married +(z2 * standard_error)\n",
        "print(\"Married 90% confidence interval values\")\n",
        "print(\"x1:\", x1)\n",
        "print(\"x2:\", x2)\n",
        "print(\"standard_error of married:\",standard_error)\n",
        "print('We can say by 90% confidence that the mean amount a Married can spend in walmart is between', x1, \"to\", x2)\n",
        "print(\"\\n\")\n",
        "\n",
        "\n",
        "# Calculation for Female\n",
        "\n",
        "mean_35K_unmarried = np.mean(sample_mean_35K_0)\n",
        "standard_error = population_sd_unmarried /(3500**0.5)\n",
        "z1 = norm.ppf(0.05)\n",
        "z2 = 1 - norm.ppf(0.05)\n",
        "x1 = mean_35K_unmarried +(z1 * standard_error)\n",
        "x2 = mean_35K_unmarried +(z2 * standard_error)\n",
        "print(\"Unmarried 90% confidence interval values\")\n",
        "print(\"x1:\", x1)\n",
        "print(\"x2:\", x2)\n",
        "print(\"standard_error of unmarried:\",standard_error)\n",
        "print('We can say by 90% confidence that the mean amount an Unmarried can spend in walmart is between', x1, \"to\", x2)"
      ],
      "metadata": {
        "colab": {
          "base_uri": "https://localhost:8080/"
        },
        "id": "nhyEiTwynGjG",
        "outputId": "38a7f283-5704-4f21-f96e-ff1e59e6bce0"
      },
      "execution_count": null,
      "outputs": [
        {
          "output_type": "stream",
          "name": "stdout",
          "text": [
            "Married 90% confidence interval values\n",
            "x1: 9116.569381379182\n",
            "x2: 9480.341031908378\n",
            "standard_error of married: 84.80104328756278\n",
            "We can say by 90% confidence that the mean amount a Married can spend in walmart is between 9116.569381379182 to 9480.341031908378\n",
            "\n",
            "\n",
            "Unmarried 90% confidence interval values\n",
            "x1: 9127.971627510335\n",
            "x2: 9492.501034954366\n",
            "standard_error of unmarried: 84.97768865518015\n",
            "We can say by 90% confidence that the mean amount an Unmarried can spend in walmart is between 9127.971627510335 to 9492.501034954366\n"
          ]
        }
      ]
    },
    {
      "cell_type": "markdown",
      "source": [
        "#95% confidence interval Values of Marrital Status"
      ],
      "metadata": {
        "id": "h_GNsKqyqa8S"
      }
    },
    {
      "cell_type": "code",
      "source": [
        "# Calculation For Male\n",
        "mean_35K_married = np.mean(sample_mean_35K_1)\n",
        "standard_error= population_sd_married/(3500**0.5)\n",
        "z1 = norm.ppf(0.025)\n",
        "z2 = 1 - norm.ppf(0.025)\n",
        "x1 = mean_35K_married +(z1 * standard_error)\n",
        "x2 = mean_35K_married +(z2 * standard_error)\n",
        "print(\"Married 95% confidence interval values\")\n",
        "print(\"x1:\", x1)\n",
        "print(\"x2:\", x2)\n",
        "print('We can say by 95% confidence that the mean amount a Married can spend in walmart is between', x1, \"to\", x2)\n",
        "print(\"\\n\")\n",
        "\n",
        "\n",
        "# Calculation for Female\n",
        "\n",
        "mean_35K_unmarried = np.mean(sample_mean_35K_0)\n",
        "standard_error = population_sd_unmarried /(3500**0.5)\n",
        "z1 = norm.ppf(0.025)\n",
        "z2 = 1 - norm.ppf(0.025)\n",
        "x1 = mean_35K_unmarried +(z1 * standard_error)\n",
        "x2 = mean_35K_unmarried +(z2 * standard_error)\n",
        "print(\"Unmarried 95% confidence interval values\")\n",
        "print(\"x1:\", x1)\n",
        "print(\"x2:\", x2)\n",
        "print('We can say by 95% confidence that the mean amount an Unmarried can spend in walmart is between', x1, \"to\", x2)"
      ],
      "metadata": {
        "colab": {
          "base_uri": "https://localhost:8080/"
        },
        "id": "i19LilGuqgW3",
        "outputId": "ea4a3fb0-66f0-4cdf-f105-855a98b339b5"
      },
      "execution_count": null,
      "outputs": [
        {
          "output_type": "stream",
          "name": "stdout",
          "text": [
            "Married 95% confidence interval values\n",
            "x1: 9084.941855825553\n",
            "x2: 9500.019581138087\n",
            "We can say by 95% confidence that the mean amount a Married can spend in walmart is between 9084.941855825553 to 9500.019581138087\n",
            "\n",
            "\n",
            "Unmarried 95% confidence interval values\n",
            "x1: 9093.49119798948\n",
            "x2: 9509.74070403955\n",
            "We can say by 95% confidence that the mean amount an Unmarried can spend in walmart is between 9093.49119798948 to 9509.74070403955\n"
          ]
        }
      ]
    },
    {
      "cell_type": "markdown",
      "source": [
        "# 99% Confidence interval Values of Marrital Status"
      ],
      "metadata": {
        "id": "74X1VoTyqwGw"
      }
    },
    {
      "cell_type": "code",
      "source": [
        "# Calculation For Male\n",
        "mean_35K_married = np.mean(sample_mean_35K_1)\n",
        "standard_error= population_sd_married/(3500**0.5)\n",
        "z1 = norm.ppf(0.005)\n",
        "z2 = 1 - norm.ppf(0.005)\n",
        "x1 = mean_35K_married +(z1 * standard_error)\n",
        "x2 = mean_35K_married +(z2 * standard_error)\n",
        "print(\"Married 90% confidence interval values\")\n",
        "print(\"x1:\", x1)\n",
        "print(\"x2:\", x2)\n",
        "print('We can say by 90% confidence that the mean amount a Married can spend in walmart is between', x1, \"to\", x2)\n",
        "print(\"\\n\")\n",
        "\n",
        "\n",
        "# Calculation for Female\n",
        "\n",
        "mean_35K_unmarried = np.mean(sample_mean_35K_0)\n",
        "standard_error = population_sd_unmarried /(3500**0.5)\n",
        "z1 = norm.ppf(0.005)\n",
        "z2 = 1 - norm.ppf(0.005)\n",
        "x1 = mean_35K_unmarried +(z1 * standard_error)\n",
        "x2 = mean_35K_unmarried +(z2 * standard_error)\n",
        "print(\"Unmarried 90% confidence interval values\")\n",
        "print(\"x1:\", x1)\n",
        "print(\"x2:\", x2)\n",
        "print('We can say by 90% confidence that the mean amount an Unmarried can spend in walmart is between', x1, \"to\", x2)"
      ],
      "metadata": {
        "colab": {
          "base_uri": "https://localhost:8080/"
        },
        "id": "3RpwMfGZq2Xi",
        "outputId": "d462572c-b07c-4e02-c230-e5b9badfd794"
      },
      "execution_count": null,
      "outputs": [
        {
          "output_type": "stream",
          "name": "stdout",
          "text": [
            "Married 90% confidence interval values\n",
            "x1: 9032.983376490161\n",
            "x2: 9551.97806047348\n",
            "We can say by 90% confidence that the mean amount a Married can spend in walmart is between 9032.983376490161 to 9551.97806047348\n",
            "\n",
            "\n",
            "Unmarried 90% confidence interval values\n",
            "x1: 9041.386037824153\n",
            "x2: 9561.845864204879\n",
            "We can say by 90% confidence that the mean amount an Unmarried can spend in walmart is between 9041.386037824153 to 9561.845864204879\n"
          ]
        }
      ]
    },
    {
      "cell_type": "markdown",
      "source": [
        "# Insights of Section 4.4\n",
        "\n",
        "# Insights of effect of Marital Status :\n",
        "\n",
        "* According to CLT the graph of Purchase amount for married and unmarried is completely overlapped.\n",
        "\n",
        "\n",
        "\n",
        "* The range of 99% confidence interval for married is 9032.98 to 9551.97 and for unmarried is 9041.38 to 9561.84\n",
        "\n",
        "\n",
        "\n",
        "\n",
        "* Since there isn't a significant difference in average purchase amounts based on marital status, we may choose not to prioritize marketing campaigns that specifically target one group over the other. Instead, focus on more general marketing strategies that cater to a broader audience.\n",
        "\n",
        "\n",
        "\n",
        "* Rather than relying solely on marital status, explore other customer segmentation criteria that might have a more significant impact on purchase behavior. Analyze customer demographics, behaviors, or preferences to identify more meaningful segments.\n",
        "\n",
        "\n",
        "\n",
        "* While marital status might not be a strong determinant of purchase amount, other factors could be influencing individual purchasing decisions. Consider collecting more detailed customer data and using it for personalized marketing and product recommendations."
      ],
      "metadata": {
        "id": "pQpqSQA9r3s0"
      }
    },
    {
      "cell_type": "markdown",
      "source": [
        "\n",
        "\n",
        "---\n",
        "\n",
        "\n",
        "\n",
        "---\n",
        "\n",
        "\n",
        "# **Section 4.5 Results when the same activity is performed for Age (10 Points)**\n",
        "\n",
        "\n",
        "---\n",
        "\n",
        "\n",
        "\n",
        "---\n",
        "\n"
      ],
      "metadata": {
        "id": "6IAgjdoLS0Gd"
      }
    },
    {
      "cell_type": "code",
      "source": [
        "age_0_17= df[df['Age']==\"0-17\"]\n",
        "population_mean_0_17 = age_0_17['Purchase'].mean()\n",
        "population_sd_0_17 = age_0_17['Purchase'].std()\n",
        "print(\"0-17 Purchase Amount Mean:\",population_mean_0_17)\n",
        "print(\"0_17 Purchase Amount SD:\",population_sd_0_17)\n",
        "\n",
        "\n",
        "print(\"\\n\")\n",
        "age_18_25= df[df['Age']==\"18-25\"]\n",
        "population_mean_18_25 = age_18_25['Purchase'].mean()\n",
        "population_sd_18_25 = age_18_25['Purchase'].std()\n",
        "print(\"18-25 Purchase Amount Mean:\",population_mean_0_17)\n",
        "print(\"18-25 Purchase Amount SD:\",population_sd_0_17)\n",
        "\n",
        "\n",
        "print(\"\\n\")\n",
        "age_26_35= df[df['Age']==\"26-35\"]\n",
        "population_mean_26_35 = age_26_35['Purchase'].mean()\n",
        "population_sd_26_35 = age_26_35['Purchase'].std()\n",
        "print(\"26-35 Purchase Amount Mean:\",population_mean_26_35)\n",
        "print(\"26-35 Purchase Amount SD:\",population_sd_26_35)\n",
        "\n",
        "\n",
        "print(\"\\n\")\n",
        "age_36_45= df[df['Age']==\"36-45\"]\n",
        "population_mean_36_45 = age_36_45['Purchase'].mean()\n",
        "population_sd_36_45 = age_36_45['Purchase'].std()\n",
        "print(\"36-45 Purchase Amount Mean:\",population_mean_36_45)\n",
        "print(\"36-45 Purchase Amount SD:\",population_sd_36_45)\n",
        "\n",
        "\n",
        "age_46_50= df[df['Age']==\"46-50\"]\n",
        "population_mean_46_50 = age_46_50['Purchase'].mean()\n",
        "population_sd_46_50 = age_46_50['Purchase'].std()\n",
        "print(\"46-50 Purchase Amount Mean:\",population_mean_46_50)\n",
        "print(\"46-50 Purchase Amount SD:\",population_sd_46_50)\n",
        "\n",
        "\n",
        "print(\"\\n\")\n",
        "age_51_55= df[df['Age']==\"51-55\"]\n",
        "population_mean_46_50 = age_51_55['Purchase'].mean()\n",
        "population_sd_46_50 = age_51_55['Purchase'].std()\n",
        "print(\"46-50 Purchase Amount Mean:\",population_mean_46_50)\n",
        "print(\"46-50 Purchase Amount SD:\",population_sd_46_50)\n",
        "\n",
        "\n",
        "print(\"\\n\")\n",
        "age_55= df[df['Age']==\"55+\"]\n",
        "population_mean_55 = age_55['Purchase'].mean()\n",
        "population_sd_55 = age_55['Purchase'].std()\n",
        "print(\"55+ Purchase Amount Mean:\",population_mean_55)\n",
        "print(\"55+ Purchase Amount SD:\",population_sd_55)\n"
      ],
      "metadata": {
        "colab": {
          "base_uri": "https://localhost:8080/"
        },
        "id": "4V9ihNaqxYsx",
        "outputId": "db594c94-6ed8-4f53-e039-7ae014988ba8"
      },
      "execution_count": null,
      "outputs": [
        {
          "output_type": "stream",
          "name": "stdout",
          "text": [
            "0-17 Purchase Amount Mean: 8925.539597404317\n",
            "0_17 Purchase Amount SD: 5090.078413934703\n",
            "\n",
            "\n",
            "18-25 Purchase Amount Mean: 8925.539597404317\n",
            "18-25 Purchase Amount SD: 5090.078413934703\n",
            "\n",
            "\n",
            "26-35 Purchase Amount Mean: 9244.947059707541\n",
            "26-35 Purchase Amount SD: 4990.086123865471\n",
            "\n",
            "\n",
            "36-45 Purchase Amount Mean: 9320.888549535055\n",
            "36-45 Purchase Amount SD: 4995.487782443173\n",
            "46-50 Purchase Amount Mean: 9198.531093411522\n",
            "46-50 Purchase Amount SD: 4940.249496025767\n",
            "\n",
            "\n",
            "46-50 Purchase Amount Mean: 9519.560427001896\n",
            "46-50 Purchase Amount SD: 5048.447704263128\n",
            "\n",
            "\n",
            "55+ Purchase Amount Mean: 9319.768740699405\n",
            "55+ Purchase Amount SD: 4968.014655516128\n"
          ]
        }
      ]
    },
    {
      "cell_type": "markdown",
      "source": [
        "#15000 sampalings and 1000 times"
      ],
      "metadata": {
        "id": "BT-Zc80_QNyF"
      }
    },
    {
      "cell_type": "code",
      "source": [
        "# for male\n",
        "\n",
        "sample_mean_10K_0_17 = [np.mean(age_0_17[\"Purchase\"].sample(10000)) for i in range(1000)]\n",
        "print( \"0-17 Age group Sample mean:\" , np.mean(sample_mean_10K_0_17))\n",
        "\n",
        "# For Femalle\n",
        "sample_mean_10K_18_25 = [np.mean(age_18_25[\"Purchase\"].sample(10000)) for i in range(1000)]\n",
        "print( \"18-25 Age group Sample mean:\" , np.mean(sample_mean_10K_18_25))\n",
        "\n",
        "sample_mean_10K_26_35 = [np.mean(age_26_35[\"Purchase\"].sample(10000)) for i in range(1000)]\n",
        "print( \"26-35 Age group Sample mean:\" , np.mean(sample_mean_10K_26_35))\n",
        "\n",
        "sample_mean_10K_36_45 = [np.mean(age_36_45[\"Purchase\"].sample(10000)) for i in range(1000)]\n",
        "print( \"36-45 Age group Sample mean:\" , np.mean(sample_mean_10K_36_45))\n",
        "\n",
        "sample_mean_10K_45_50 = [np.mean(age_46_50[\"Purchase\"].sample(10000)) for i in range(1000)]\n",
        "print( \"45-50 Age group Sample mean:\" , np.mean(sample_mean_10K_45_50))\n",
        "\n",
        "sample_mean_10K_51_55 = [np.mean(age_51_55[\"Purchase\"].sample(10000)) for i in range(1000)]\n",
        "print( \"51-55 Age group Sample mean:\" , np.mean(sample_mean_10K_51_55))\n",
        "\n",
        "sample_mean_10K_55 = [np.mean(age_55[\"Purchase\"].sample(10000)) for i in range(1000)]\n",
        "print( \"55+ Age group Sample mean:\" , np.mean(sample_mean_10K_55))"
      ],
      "metadata": {
        "colab": {
          "base_uri": "https://localhost:8080/"
        },
        "id": "AIpzNyaJQYUS",
        "outputId": "4f398be2-713e-4d95-e848-47e41dad8157"
      },
      "execution_count": null,
      "outputs": [
        {
          "output_type": "stream",
          "name": "stdout",
          "text": [
            "0-17 Age group Sample mean: 8925.8885992\n",
            "18-25 Age group Sample mean: 9160.966896899998\n",
            "26-35 Age group Sample mean: 9245.035157949998\n",
            "36-45 Age group Sample mean: 9321.38261185\n",
            "45-50 Age group Sample mean: 9198.31464965\n",
            "51-55 Age group Sample mean: 9521.294892599999\n",
            "55+ Age group Sample mean: 9320.94949545\n"
          ]
        }
      ]
    },
    {
      "cell_type": "code",
      "source": [
        "plt.figure(figsize=(10, 6))\n",
        "sns.kdeplot(sample_mean_10K_0_17)\n",
        "sns.kdeplot(sample_mean_10K_18_25)\n",
        "sns.kdeplot(sample_mean_10K_26_35)\n",
        "sns.kdeplot(sample_mean_10K_36_45)\n",
        "sns.kdeplot(sample_mean_10K_45_50)\n",
        "sns.kdeplot(sample_mean_10K_51_55)\n",
        "sns.kdeplot(sample_mean_10K_55)\n",
        "plt.show()"
      ],
      "metadata": {
        "id": "mWSqP7zdQpn_",
        "colab": {
          "base_uri": "https://localhost:8080/",
          "height": 522
        },
        "outputId": "9c18f37f-cfba-42aa-c197-86e81dba75a7"
      },
      "execution_count": null,
      "outputs": [
        {
          "output_type": "display_data",
          "data": {
            "text/plain": [
              "<Figure size 1000x600 with 1 Axes>"
            ],
            "image/png": "[encoded data removed]"
          },
          "metadata": {}
        }
      ]
    },
    {
      "cell_type": "markdown",
      "source": [
        "#90% Confidence interval Values of all the Age groups"
      ],
      "metadata": {
        "id": "8RAeWn9TrhLa"
      }
    },
    {
      "cell_type": "code",
      "source": [
        "# Calculation For 0-17\n",
        "mean_10K_0_17 = np.mean(sample_mean_10K_0_17)\n",
        "standard_error= population_sd_0_17/(10000**0.5)\n",
        "z1 = norm.ppf(0.05)\n",
        "z2 = 1 - norm.ppf(0.05)\n",
        "x1 = mean_10K_0_17 +(z1 * standard_error)\n",
        "x2 = mean_10K_0_17 +(z2 * standard_error)\n",
        "print(\"Age group 0-17 90% confidence interval values\")\n",
        "print(\"x1:\", x1)\n",
        "print(\"x2:\", x2)\n",
        "print('We can say by 90% confidence that the mean amount 0-17 Age group person can spend in walmart is between', x1, \"to\", x2)\n",
        "print(\"\\n\")\n",
        "\n",
        "\n",
        "# Calculation For 18-25\n",
        "mean_10K_18_25 = np.mean(sample_mean_10K_18_25)\n",
        "standard_error= population_sd_0_17/(10000**0.5)\n",
        "z1 = norm.ppf(0.05)\n",
        "z2 = 1 - norm.ppf(0.05)\n",
        "x1 = mean_10K_18_25+(z1 * standard_error)\n",
        "x2 = mean_10K_18_25 +(z2 * standard_error)\n",
        "print(\"Age group 18-25 90% confidence interval values\")\n",
        "print(\"x1:\", x1)\n",
        "print(\"x2:\", x2)\n",
        "print('We can say by 90% confidence that the mean amount 18-25 Age group person can spend in walmart is between', x1, \"to\", x2)\n",
        "print(\"\\n\")\n",
        "\n",
        "# Calculation For 26-35\n",
        "mean_10K_26_35 = np.mean(sample_mean_10K_26_35)\n",
        "standard_error= population_sd_0_17/(10000**0.5)\n",
        "z1 = norm.ppf(0.05)\n",
        "z2 = 1 - norm.ppf(0.05)\n",
        "x1 = mean_10K_26_35 +(z1 * standard_error)\n",
        "x2 = mean_10K_26_35 +(z2 * standard_error)\n",
        "print(\"Age group 26-35 90% confidence interval values\")\n",
        "print(\"x1:\", x1)\n",
        "print(\"x2:\", x2)\n",
        "print('We can say by 90% confidence that the mean amount 26-35 Age group person can spend in walmart is between', x1, \"to\", x2)\n",
        "print(\"\\n\")\n",
        "\n",
        "# Calculation For 36-45\n",
        "mean_10K_36_45 = np.mean(sample_mean_10K_36_45)\n",
        "standard_error= population_sd_0_17/(10000**0.5)\n",
        "z1 = norm.ppf(0.05)\n",
        "z2 = 1 - norm.ppf(0.05)\n",
        "x1 = mean_10K_36_45 +(z1 * standard_error)\n",
        "x2 = mean_10K_36_45 +(z2 * standard_error)\n",
        "print(\"Age group 36-45 90% confidence interval values\")\n",
        "print(\"x1:\", x1)\n",
        "print(\"x2:\", x2)\n",
        "print('We can say by 90% confidence that the mean amount 36-45 Age group person can spend in walmart is between', x1, \"to\", x2)\n",
        "print(\"\\n\")\n",
        "\n",
        "# Calculation For 45-50\n",
        "mean_10K_45_50 = np.mean(sample_mean_10K_45_50)\n",
        "standard_error= population_sd_0_17/(10000**0.5)\n",
        "z1 = norm.ppf(0.05)\n",
        "z2 = 1 - norm.ppf(0.05)\n",
        "x1 = mean_10K_45_50 +(z1 * standard_error)\n",
        "x2 = mean_10K_45_50 +(z2 * standard_error)\n",
        "print(\"Age group 45-50 90% confidence interval values\")\n",
        "print(\"x1:\", x1)\n",
        "print(\"x2:\", x2)\n",
        "print('We can say by 90% confidence that the mean amount 45-50 Age group person can spend in walmart is between', x1, \"to\", x2)\n",
        "print(\"\\n\")\n",
        "\n",
        "# Calculation For 51-55\n",
        "mean_10K_51_55 = np.mean(sample_mean_10K_51_55)\n",
        "standard_error= population_sd_0_17/(10000**0.5)\n",
        "z1 = norm.ppf(0.05)\n",
        "z2 = 1 - norm.ppf(0.05)\n",
        "x1 = mean_10K_51_55 +(z1 * standard_error)\n",
        "x2 = mean_10K_51_55 +(z2 * standard_error)\n",
        "print(\"Age group 51-55 90% confidence interval values\")\n",
        "print(\"x1:\", x1)\n",
        "print(\"x2:\", x2)\n",
        "print('We can say by 90% confidence that the mean amount 51-55 Age group person can spend in walmart is between', x1, \"to\", x2)\n",
        "print(\"\\n\")\n",
        "\n",
        "\n",
        "# Calculation For 55+\n",
        "mean_10K_55 = np.mean(sample_mean_10K_55)\n",
        "standard_error= population_sd_0_17/(10000**0.5)\n",
        "z1 = norm.ppf(0.05)\n",
        "z2 = 1 - norm.ppf(0.05)\n",
        "x1 = mean_10K_55 +(z1 * standard_error)\n",
        "x2 = mean_10K_55 +(z2 * standard_error)\n",
        "print(\"Age group 55+ 90% confidence interval values\")\n",
        "print(\"x1:\", x1)\n",
        "print(\"x2:\", x2)\n",
        "print('We can say by 90% confidence that the mean amount 55+ Age group person can spend in walmart is between', x1, \"to\", x2)\n",
        "print(\"\\n\")\n",
        "\n"
      ],
      "metadata": {
        "colab": {
          "base_uri": "https://localhost:8080/"
        },
        "id": "jx95mtGOrsWm",
        "outputId": "d450c742-0f00-4b27-bdcb-f85bb429f7d8"
      },
      "execution_count": null,
      "outputs": [
        {
          "output_type": "stream",
          "name": "stdout",
          "text": [
            "Age group 0-17 90% confidence interval values\n",
            "x1: 8842.16425979372\n",
            "x2: 9060.513722745625\n",
            "We can say by 90% confidence that the mean amount 0-17 Age group person can spend in walmart is between 8842.16425979372 to 9060.513722745625\n",
            "\n",
            "\n",
            "Age group 18-25 90% confidence interval values\n",
            "x1: 9077.242557493719\n",
            "x2: 9295.592020445623\n",
            "We can say by 90% confidence that the mean amount 18-25 Age group person can spend in walmart is between 9077.242557493719 to 9295.592020445623\n",
            "\n",
            "\n",
            "Age group 26-35 90% confidence interval values\n",
            "x1: 9161.31081854372\n",
            "x2: 9379.660281495624\n",
            "We can say by 90% confidence that the mean amount 26-35 Age group person can spend in walmart is between 9161.31081854372 to 9379.660281495624\n",
            "\n",
            "\n",
            "Age group 36-45 90% confidence interval values\n",
            "x1: 9237.658272443721\n",
            "x2: 9456.007735395626\n",
            "We can say by 90% confidence that the mean amount 36-45 Age group person can spend in walmart is between 9237.658272443721 to 9456.007735395626\n",
            "\n",
            "\n",
            "Age group 45-50 90% confidence interval values\n",
            "x1: 9114.59031024372\n",
            "x2: 9332.939773195625\n",
            "We can say by 90% confidence that the mean amount 45-50 Age group person can spend in walmart is between 9114.59031024372 to 9332.939773195625\n",
            "\n",
            "\n",
            "Age group 51-55 90% confidence interval values\n",
            "x1: 9437.57055319372\n",
            "x2: 9655.920016145625\n",
            "We can say by 90% confidence that the mean amount 51-55 Age group person can spend in walmart is between 9437.57055319372 to 9655.920016145625\n",
            "\n",
            "\n",
            "Age group 55+ 90% confidence interval values\n",
            "x1: 9237.225156043722\n",
            "x2: 9455.574618995626\n",
            "We can say by 90% confidence that the mean amount 55+ Age group person can spend in walmart is between 9237.225156043722 to 9455.574618995626\n",
            "\n",
            "\n"
          ]
        }
      ]
    },
    {
      "cell_type": "markdown",
      "source": [
        "#95% Confidence Interval Values of all Age groups"
      ],
      "metadata": {
        "id": "bWWxNz-Q3i0E"
      }
    },
    {
      "cell_type": "code",
      "source": [
        "# Calculation For 0-17\n",
        "mean_10K_0_17 = np.mean(sample_mean_10K_0_17)\n",
        "standard_error= population_sd_0_17/(10000**0.5)\n",
        "z1 = norm.ppf(0.025)\n",
        "z2 = 1 - norm.ppf(0.025)\n",
        "x1 = mean_10K_0_17 +(z1 * standard_error)\n",
        "x2 = mean_10K_0_17 +(z2 * standard_error)\n",
        "print(\"Age group 0-17 90% confidence interval values\")\n",
        "print(\"x1:\", x1)\n",
        "print(\"x2:\", x2)\n",
        "print('We can say by 95% confidence that the mean amount 0-17 Age group person can spend in walmart is between', x1, \"to\", x2)\n",
        "print(\"\\n\")\n",
        "\n",
        "\n",
        "# Calculation For 18-25\n",
        "mean_10K_18_25 = np.mean(sample_mean_10K_18_25)\n",
        "standard_error= population_sd_0_17/(10000**0.5)\n",
        "z1 = norm.ppf(0.025)\n",
        "z2 = 1 - norm.ppf(0.025)\n",
        "x1 = mean_10K_18_25+(z1 * standard_error)\n",
        "x2 = mean_10K_18_25 +(z2 * standard_error)\n",
        "print(\"Age group 18-25 90% confidence interval values\")\n",
        "print(\"x1:\", x1)\n",
        "print(\"x2:\", x2)\n",
        "print('We can say by 95% confidence that the mean amount 18-25 Age group person can spend in walmart is between', x1, \"to\", x2)\n",
        "print(\"\\n\")\n",
        "\n",
        "# Calculation For 26-35\n",
        "mean_10K_26_35 = np.mean(sample_mean_10K_26_35)\n",
        "standard_error= population_sd_0_17/(10000**0.5)\n",
        "z1 = norm.ppf(0.025)\n",
        "z2 = 1 - norm.ppf(0.025)\n",
        "x1 = mean_10K_26_35 +(z1 * standard_error)\n",
        "x2 = mean_10K_26_35 +(z2 * standard_error)\n",
        "print(\"Age group 26-35 95% confidence interval values\")\n",
        "print(\"x1:\", x1)\n",
        "print(\"x2:\", x2)\n",
        "print('We can say with 95% confidence that the mean amount 26-35 Age group person can spend in walmart is between', x1, \"to\", x2)\n",
        "print(\"\\n\")\n",
        "\n",
        "# Calculation For 36-45\n",
        "mean_10K_36_45 = np.mean(sample_mean_10K_36_45)\n",
        "standard_error= population_sd_0_17/(10000**0.5)\n",
        "z1 = norm.ppf(0.025)\n",
        "z2 = 1 - norm.ppf(0.025)\n",
        "x1 = mean_10K_36_45 +(z1 * standard_error)\n",
        "x2 = mean_10K_36_45 +(z2 * standard_error)\n",
        "print(\"Age group 36-45 95% confidence interval values\")\n",
        "print(\"x1:\", x1)\n",
        "print(\"x2:\", x2)\n",
        "print('We can say with 95% confidence that the mean amount 36-45 Age group person can spend in walmart is between', x1, \"to\", x2)\n",
        "print(\"\\n\")\n",
        "\n",
        "# Calculation For 45-50\n",
        "mean_10K_45_50 = np.mean(sample_mean_10K_45_50)\n",
        "standard_error= population_sd_0_17/(10000**0.5)\n",
        "z1 = norm.ppf(0.025)\n",
        "z2 = 1 - norm.ppf(0.025)\n",
        "x1 = mean_10K_45_50 +(z1 * standard_error)\n",
        "x2 = mean_10K_45_50 +(z2 * standard_error)\n",
        "print(\"Age group 45-50 95% confidence interval values\")\n",
        "print(\"x1:\", x1)\n",
        "print(\"x2:\", x2)\n",
        "print('We can say with 95% confidence that the mean amount 45-50 Age group person can spend in walmart is between', x1, \"to\", x2)\n",
        "print(\"\\n\")\n",
        "\n",
        "# Calculation For 51-55\n",
        "mean_10K_51_55 = np.mean(sample_mean_10K_51_55)\n",
        "standard_error= population_sd_0_17/(10000**0.5)\n",
        "z1 = norm.ppf(0.025)\n",
        "z2 = 1 - norm.ppf(0.025)\n",
        "x1 = mean_10K_51_55 +(z1 * standard_error)\n",
        "x2 = mean_10K_51_55 +(z2 * standard_error)\n",
        "print(\"Age group 51-55 95% confidence interval values\")\n",
        "print(\"x1:\", x1)\n",
        "print(\"x2:\", x2)\n",
        "print('We can say with 95% confidence that the mean amount 51-55 Age group person can spend in walmart is between', x1, \"to\", x2)\n",
        "print(\"\\n\")\n",
        "\n",
        "\n",
        "# Calculation For 55+\n",
        "mean_10K_55 = np.mean(sample_mean_10K_55)\n",
        "standard_error= population_sd_0_17/(10000**0.5)\n",
        "z1 = norm.ppf(0.025)\n",
        "z2 = 1 - norm.ppf(0.025)\n",
        "x1 = mean_10K_55 +(z1 * standard_error)\n",
        "x2 = mean_10K_55 +(z2 * standard_error)\n",
        "print(\"Age group 55+ 95% confidence interval values\")\n",
        "print(\"x1:\", x1)\n",
        "print(\"x2:\", x2)\n",
        "print('We can say with 95% confidence that the mean amount 55+ Age group person can spend in walmart is between', x1, \"to\", x2)\n",
        "print(\"\\n\")\n"
      ],
      "metadata": {
        "colab": {
          "base_uri": "https://localhost:8080/"
        },
        "id": "VCqFMFCE3npZ",
        "outputId": "f2e693dd-20ba-419f-fd03-d6ef87b8059a"
      },
      "execution_count": null,
      "outputs": [
        {
          "output_type": "stream",
          "name": "stdout",
          "text": [
            "Age group 0-17 90% confidence interval values\n",
            "x1: 8826.124895502031\n",
            "x2: 9076.553087037315\n",
            "We can say by 95% confidence that the mean amount 0-17 Age group person can spend in walmart is between 8826.124895502031 to 9076.553087037315\n",
            "\n",
            "\n",
            "Age group 18-25 90% confidence interval values\n",
            "x1: 9061.203193202029\n",
            "x2: 9311.631384737313\n",
            "We can say by 95% confidence that the mean amount 18-25 Age group person can spend in walmart is between 9061.203193202029 to 9311.631384737313\n",
            "\n",
            "\n",
            "Age group 26-35 95% confidence interval values\n",
            "x1: 9145.27145425203\n",
            "x2: 9395.699645787314\n",
            "We can say with 95% confidence that the mean amount 26-35 Age group person can spend in walmart is between 9145.27145425203 to 9395.699645787314\n",
            "\n",
            "\n",
            "Age group 36-45 95% confidence interval values\n",
            "x1: 9221.618908152032\n",
            "x2: 9472.047099687315\n",
            "We can say with 95% confidence that the mean amount 36-45 Age group person can spend in walmart is between 9221.618908152032 to 9472.047099687315\n",
            "\n",
            "\n",
            "Age group 45-50 95% confidence interval values\n",
            "x1: 9098.55094595203\n",
            "x2: 9348.979137487315\n",
            "We can say with 95% confidence that the mean amount 45-50 Age group person can spend in walmart is between 9098.55094595203 to 9348.979137487315\n",
            "\n",
            "\n",
            "Age group 51-55 95% confidence interval values\n",
            "x1: 9421.53118890203\n",
            "x2: 9671.959380437314\n",
            "We can say with 95% confidence that the mean amount 51-55 Age group person can spend in walmart is between 9421.53118890203 to 9671.959380437314\n",
            "\n",
            "\n",
            "Age group 55+ 95% confidence interval values\n",
            "x1: 9221.185791752032\n",
            "x2: 9471.613983287316\n",
            "We can say with 95% confidence that the mean amount 55+ Age group person can spend in walmart is between 9221.185791752032 to 9471.613983287316\n",
            "\n",
            "\n"
          ]
        }
      ]
    },
    {
      "cell_type": "markdown",
      "source": [
        "#99% Confidence interval Values for all the age Groups"
      ],
      "metadata": {
        "id": "JImXgOBx4QgF"
      }
    },
    {
      "cell_type": "code",
      "source": [
        "# Calculation For 0-17\n",
        "mean_10K_0_17 = np.mean(sample_mean_10K_0_17)\n",
        "standard_error= population_sd_0_17/(10000**0.5)\n",
        "z1 = norm.ppf(0.005)\n",
        "z2 = 1 - norm.ppf(0.005)\n",
        "x1 = mean_10K_0_17 +(z1 * standard_error)\n",
        "x2 = mean_10K_0_17 +(z2 * standard_error)\n",
        "print(\"Age group 0-17 99% confidence interval values\")\n",
        "print(\"x1:\", x1)\n",
        "print(\"x2:\", x2)\n",
        "print('We can say by 99% confidence that the mean amount 0-17 Age group person can spend in walmart is between', x1, \"to\", x2)\n",
        "print(\"\\n\")\n",
        "\n",
        "\n",
        "# Calculation For 18-25\n",
        "mean_10K_18_25 = np.mean(sample_mean_10K_18_25)\n",
        "standard_error= population_sd_0_17/(10000**0.5)\n",
        "z1 = norm.ppf(0.005)\n",
        "z2 = 1 - norm.ppf(0.005)\n",
        "x1 = mean_10K_18_25+(z1 * standard_error)\n",
        "x2 = mean_10K_18_25 +(z2 * standard_error)\n",
        "print(\"Age group 18-25 99% confidence interval values\")\n",
        "print(\"x1:\", x1)\n",
        "print(\"x2:\", x2)\n",
        "print('We can say by 99% confidence that the mean amount 18-25 Age group person can spend in walmart is between', x1, \"to\", x2)\n",
        "print(\"\\n\")\n",
        "\n",
        "# Calculation For 26-35\n",
        "mean_10K_26_35 = np.mean(sample_mean_10K_26_35)\n",
        "standard_error= population_sd_0_17/(10000**0.5)\n",
        "z1 = norm.ppf(0.005)\n",
        "z2 = 1 - norm.ppf(0.005)\n",
        "x1 = mean_10K_26_35 +(z1 * standard_error)\n",
        "x2 = mean_10K_26_35 +(z2 * standard_error)\n",
        "print(\"Age group 26-35 99% confidence interval values\")\n",
        "print(\"x1:\", x1)\n",
        "print(\"x2:\", x2)\n",
        "print('We can say by 99% confidence that the mean amount 26-35 Age group person can spend in walmart is between', x1, \"to\", x2)\n",
        "print(\"\\n\")\n",
        "\n",
        "# Calculation For 36-45\n",
        "mean_10K_36_45 = np.mean(sample_mean_10K_36_45)\n",
        "standard_error= population_sd_0_17/(10000**0.5)\n",
        "z1 = norm.ppf(0.005)\n",
        "z2 = 1 - norm.ppf(0.005)\n",
        "x1 = mean_10K_36_45 +(z1 * standard_error)\n",
        "x2 = mean_10K_36_45 +(z2 * standard_error)\n",
        "print(\"Age group 36-45 99% confidence interval values\")\n",
        "print(\"x1:\", x1)\n",
        "print(\"x2:\", x2)\n",
        "print('We can say by 99% confidence that the mean amount 36-45 Age group person can spend in walmart is between', x1, \"to\", x2)\n",
        "print(\"\\n\")\n",
        "\n",
        "# Calculation For 45-50\n",
        "mean_10K_45_50 = np.mean(sample_mean_10K_45_50)\n",
        "standard_error= population_sd_0_17/(10000**0.5)\n",
        "z1 = norm.ppf(0.005)\n",
        "z2 = 1 - norm.ppf(0.005)\n",
        "x1 = mean_10K_45_50 +(z1 * standard_error)\n",
        "x2 = mean_10K_45_50 +(z2 * standard_error)\n",
        "print(\"Age group 45-50 99% confidence interval values\")\n",
        "print(\"x1:\", x1)\n",
        "print(\"x2:\", x2)\n",
        "print('We can say by 99% confidence that the mean amount 45-50 Age group person can spend in walmart is between', x1, \"to\", x2)\n",
        "print(\"\\n\")\n",
        "\n",
        "# Calculation For 51-55\n",
        "mean_10K_51_55 = np.mean(sample_mean_10K_51_55)\n",
        "standard_error= population_sd_0_17/(10000**0.5)\n",
        "z1 = norm.ppf(0.005)\n",
        "z2 = 1 - norm.ppf(0.005)\n",
        "x1 = mean_10K_51_55 +(z1 * standard_error)\n",
        "x2 = mean_10K_51_55 +(z2 * standard_error)\n",
        "print(\"Age group 51-55 99% confidence interval values\")\n",
        "print(\"x1:\", x1)\n",
        "print(\"x2:\", x2)\n",
        "print('We can say by 99% confidence that the mean amount 51-55 Age group person can spend in walmart is between', x1, \"to\", x2)\n",
        "print(\"\\n\")\n",
        "\n",
        "\n",
        "# Calculation For 55+\n",
        "mean_10K_55 = np.mean(sample_mean_10K_55)\n",
        "standard_error= population_sd_0_17/(10000**0.5)\n",
        "z1 = norm.ppf(0.005)\n",
        "z2 = 1 - norm.ppf(0.005)\n",
        "x1 = mean_10K_55 +(z1 * standard_error)\n",
        "x2 = mean_10K_55 +(z2 * standard_error)\n",
        "print(\"Age group 55+ 99% confidence interval values\")\n",
        "print(\"x1:\", x1)\n",
        "print(\"x2:\", x2)\n",
        "print('We can say by 99% confidence that the mean amount 55+ Age group person can spend in walmart is between', x1, \"to\", x2)\n",
        "print(\"\\n\")\n"
      ],
      "metadata": {
        "colab": {
          "base_uri": "https://localhost:8080/"
        },
        "id": "-g2HWtip4XF9",
        "outputId": "bf9eddc2-2656-4af3-8362-25d509521492"
      },
      "execution_count": null,
      "outputs": [
        {
          "output_type": "stream",
          "name": "stdout",
          "text": [
            "Age group 0-17 99% confidence interval values\n",
            "x1: 8794.776867840252\n",
            "x2: 9107.901114699094\n",
            "We can say by 99% confidence that the mean amount 0-17 Age group person can spend in walmart is between 8794.776867840252 to 9107.901114699094\n",
            "\n",
            "\n",
            "Age group 18-25 99% confidence interval values\n",
            "x1: 9029.85516554025\n",
            "x2: 9342.979412399092\n",
            "We can say by 99% confidence that the mean amount 18-25 Age group person can spend in walmart is between 9029.85516554025 to 9342.979412399092\n",
            "\n",
            "\n",
            "Age group 26-35 99% confidence interval values\n",
            "x1: 9113.92342659025\n",
            "x2: 9427.047673449093\n",
            "We can say by 99% confidence that the mean amount 26-35 Age group person can spend in walmart is between 9113.92342659025 to 9427.047673449093\n",
            "\n",
            "\n",
            "Age group 36-45 99% confidence interval values\n",
            "x1: 9190.270880490252\n",
            "x2: 9503.395127349095\n",
            "We can say by 99% confidence that the mean amount 36-45 Age group person can spend in walmart is between 9190.270880490252 to 9503.395127349095\n",
            "\n",
            "\n",
            "Age group 45-50 99% confidence interval values\n",
            "x1: 9067.202918290252\n",
            "x2: 9380.327165149094\n",
            "We can say by 99% confidence that the mean amount 45-50 Age group person can spend in walmart is between 9067.202918290252 to 9380.327165149094\n",
            "\n",
            "\n",
            "Age group 51-55 99% confidence interval values\n",
            "x1: 9390.183161240251\n",
            "x2: 9703.307408099094\n",
            "We can say by 99% confidence that the mean amount 51-55 Age group person can spend in walmart is between 9390.183161240251 to 9703.307408099094\n",
            "\n",
            "\n",
            "Age group 55+ 99% confidence interval values\n",
            "x1: 9189.837764090253\n",
            "x2: 9502.962010949095\n",
            "We can say by 99% confidence that the mean amount 55+ Age group person can spend in walmart is between 9189.837764090253 to 9502.962010949095\n",
            "\n",
            "\n"
          ]
        }
      ]
    },
    {
      "cell_type": "markdown",
      "source": [
        "# Section 4.5 Insights\n",
        "\n",
        "**Age:** Central Limits of each age group is overlapped with each other.\n",
        "mean amount purchase of age group\n",
        "\n",
        "\n",
        "0-17 is 8925.88\n",
        "\n",
        "18-25 is 9160.96\n",
        "\n",
        "26-35 is 9245.03\n",
        "\n",
        "36-45 is 9321.38\n",
        "\n",
        "46-50 is 9198.31\n",
        "\n",
        "51-55 is 9521.29\n",
        "\n",
        "55+ is 9320.94\n",
        "\n",
        "* customer in the age group of 51-55 have high average purchase amount. We can leverage this information to improve our marketing strategies and profit to our business.\n"
      ],
      "metadata": {
        "id": "ArlqHf5L28TG"
      }
    },
    {
      "cell_type": "markdown",
      "source": [
        "#Section 5 Final Insights (10 Points) - Illustrate the insights based on exploration and CLT\n",
        "\n",
        "\n"
      ],
      "metadata": {
        "id": "vpQ_KmpYS4Gl"
      }
    },
    {
      "cell_type": "code",
      "source": [
        "sns.heatmap(df_original.corr(), annot=True, cmap=\"Blues\", linewidth=.5)"
      ],
      "metadata": {
        "colab": {
          "base_uri": "https://localhost:8080/",
          "height": 620
        },
        "id": "n35zU_AO3P5y",
        "outputId": "0d683dc5-7cf2-47e8-8757-b851cbef61eb"
      },
      "execution_count": null,
      "outputs": [
        {
          "output_type": "stream",
          "name": "stderr",
          "text": [
            "<ipython-input-24-83c9ab557973>:1: FutureWarning: The default value of numeric_only in DataFrame.corr is deprecated. In a future version, it will default to False. Select only valid columns or specify the value of numeric_only to silence this warning.\n",
            "  sns.heatmap(df_original.corr(), annot=True, cmap=\"Blues\", linewidth=.5)\n"
          ]
        },
        {
          "output_type": "execute_result",
          "data": {
            "text/plain": [
              "<Axes: >"
            ]
          },
          "metadata": {},
          "execution_count": 24
        },
        {
          "output_type": "display_data",
          "data": {
            "text/plain": [
              "<Figure size 640x480 with 2 Axes>"
            ],
            "image/png": "[encoded data removed]"
          },
          "metadata": {}
        }
      ]
    },
    {
      "cell_type": "markdown",
      "source": [
        "#Section 5.1 Comments on the distribution of the variables and relationship between them\n",
        "\n",
        "**Distribution**\n",
        "\n",
        "\n",
        "---\n",
        "\n",
        "\n",
        "* **Age** Customers are distributed into 7 Age Groups\n",
        "\n",
        "Top 3 age groups:\n",
        "26-35: 40%\n",
        "36-45: 20%\n",
        "18-25: 18%\n",
        "Combining all together they have 78% customer\n",
        "\n",
        "Lowest 4 Age groups:\n",
        "0-17: 2.7%\n",
        "36-45: 8.3%\n",
        "46-55: 7.0%\n",
        "55+: 3.9%\n",
        "\n",
        "Combining all together have 21% Customers\n",
        "\n",
        "* **Gender**\n",
        "75% are Males\n",
        "25% are Females\n",
        "\n",
        "* **Occupation** Total 21 Occupations are there\n",
        "\n",
        "Top 5 Occupation have the code 4,0,7,1 and 17\n",
        "\n",
        "* **Product Category** 20 product categories are there\n",
        "Top 3 are\n",
        "1 25%\n",
        "5 27%\n",
        "8 20%\n",
        "\n",
        "Only these 3 product category have the max sale that is of 72%\n",
        "\n",
        "* **Marital_Staus**:\n",
        "60% are unmarried\n",
        "40% are married\n",
        "\n",
        "\n",
        "---\n",
        "\n",
        "\n",
        "**Relationship**\n",
        "\n",
        "*   As we can see the Upper Correlation heatmap of the different variable **there is no relationship between them.**\n"
      ],
      "metadata": {
        "id": "Wcj8Rt-7AZdk"
      }
    },
    {
      "cell_type": "markdown",
      "source": [
        "# Section 5.2 Comments for each univariate and bivariate plots\n",
        "\n",
        "It is Mentioned below the every graph"
      ],
      "metadata": {
        "id": "AHyTlbdTTDCn"
      }
    },
    {
      "cell_type": "markdown",
      "source": [
        "#section 5.3 Comments on different variables when generalizing it for Population\n",
        "\n",
        "1. **Gender:** After applying CLT and CI on the gender we can generalize it for the population that the mean Purchase amount of Males(M) is 9440 with the standard error of 86.07 and mean purchase ampunt of Females (F) is 8733 with the standard error of 80.58.\n",
        "\n",
        "2. **Marital_Status** After studying the CLT ans CI in Marrital Status and generalizing it for the population we can say that the mean purchase amount of Unmarried customers is 9259.31 with standard error of 84.80 and for married customers is 9250.29 with standard error of 84.97. Both are similar\n",
        "\n",
        "3. **Age** Generalised on population\n",
        "mean amount purchase of age group\n",
        "\n",
        "\n",
        "0-17 is 8925.88\n",
        "\n",
        "18-25 is 9160.96\n",
        "\n",
        "26-35 is 9245.03\n",
        "\n",
        "36-45 is 9321.38\n",
        "\n",
        "46-50 is 9198.31\n",
        "\n",
        "51-55 is 9521.29\n",
        "\n",
        "55+ is 9320.94\n",
        "\n",
        "All have very small range of mean 8925 to 9521. 600 dollar difference around."
      ],
      "metadata": {
        "id": "9SAF03P3THkE"
      }
    },
    {
      "cell_type": "markdown",
      "source": [
        "#Section 6 Recommendations (10 Points)\n",
        "#Actionable items for business. No technical jargon. No complications. Simple action items that everyone can understand"
      ],
      "metadata": {
        "id": "TLm1dpHdTMAE"
      }
    },
    {
      "cell_type": "markdown",
      "source": [
        "1. Male and Female have completely different range of average purchase amount. Based on this actions we can take are:\n",
        "\n",
        "  1.1 **Gender-Specific Marketing Campaigns:**Create tailored marketing campaigns that resonate with each gender's preferences and interests. This includes using gender-specific messaging, imagery, and advertising channels.\n",
        "\n",
        "  1.2 **Pricing Strategies:** Fine-tune pricing strategies based on gender preferences. Consider introducing pricing tiers, discounts, or bundled offers that are more appealing to one gender over the other.\n",
        "\n",
        "  1.3 **Market Expansion:** Consider expanding into new markets or demographics that align with the higher-spending gender group.\n",
        "\n",
        "2. Married and Unmarried have completely overlapped range of average purchase amount.Based on this actions we can take are:\n",
        "\n",
        "   2.1 Since there isn't a significant difference in average purchase amounts based on marital status, we may choose not to prioritize marketing campaigns that specifically target one group over the other. Instead, focus on more general marketing strategies that cater to a broader audience.\n",
        "\n",
        "3. All the Age groups have partially overlapped range of purchase amount.Based on this actions we can take are:\n",
        "\n",
        "  3.1 51-55 age group has a higher mean purchase amount, they may be willing to spend more on certain products or services. Advertisements and promotions can be designed to appeal to this age group.\n",
        "\n",
        "  3.2 26-35 age group have the highest percentage of customers and have decent average amount of purchase we can run some loyality programs and give some offers to retain these customers.\n",
        "\n",
        "4. Product Category sales Count Based actions: 1,5,8 have the highest sales and share 72% of sales alone. Need to keep the stock of the products of these product categories all the time."
      ],
      "metadata": {
        "id": "GHaWJ-xfTTwO"
      }
    }
  ]
}